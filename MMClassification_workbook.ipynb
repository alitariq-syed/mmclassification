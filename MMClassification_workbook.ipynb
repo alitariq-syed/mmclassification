{
  "nbformat": 4,
  "nbformat_minor": 0,
  "metadata": {
    "colab": {
      "name": "MMClassification_workbook.ipynb",
      "provenance": [],
      "collapsed_sections": []
    },
    "kernelspec": {
      "name": "python3",
      "display_name": "Python 3"
    },
    "language_info": {
      "name": "python"
    },
    "accelerator": "GPU"
  },
  "cells": [
    {
      "cell_type": "code",
      "metadata": {
        "id": "Y3IQCk1EckhZ"
      },
      "source": [
        ""
      ],
      "execution_count": null,
      "outputs": []
    },
    {
      "cell_type": "code",
      "metadata": {
        "id": "afQ37OsZuPqf"
      },
      "source": [
        "# from google.colab import drive\n",
        "# drive.mount('/content/drive')"
      ],
      "execution_count": null,
      "outputs": []
    },
    {
      "cell_type": "markdown",
      "metadata": {
        "id": "bxxvWSXmVX1V"
      },
      "source": [
        "##Installing Library (Run)"
      ]
    },
    {
      "cell_type": "code",
      "metadata": {
        "colab": {
          "base_uri": "https://localhost:8080/"
        },
        "id": "Pwbilvubu8ZS",
        "outputId": "41a0b1d3-2352-4c8e-c4c7-2ea6f1151658"
      },
      "source": [
        "# Check nvcc version\n",
        "!nvcc -V\n",
        "# Check GCC version\n",
        "!gcc --version"
      ],
      "execution_count": null,
      "outputs": [
        {
          "output_type": "stream",
          "name": "stdout",
          "text": [
            "nvcc: NVIDIA (R) Cuda compiler driver\r\n",
            "Copyright (c) 2005-2020 NVIDIA Corporation\r\n",
            "Built on Tue_Sep_15_19:10:02_PDT_2020\r\n",
            "Cuda compilation tools, release 11.1, V11.1.74\r\n",
            "Build cuda_11.1.TC455_06.29069683_0\n",
            "gcc (Ubuntu 9.3.0-17ubuntu1~20.04) 9.3.0\n",
            "Copyright (C) 2019 Free Software Foundation, Inc.\n",
            "This is free software; see the source for copying conditions.  There is NO\n",
            "warranty; not even for MERCHANTABILITY or FITNESS FOR A PARTICULAR PURPOSE.\n",
            "\n"
          ]
        }
      ]
    },
    {
      "cell_type": "code",
      "metadata": {
        "colab": {
          "base_uri": "https://localhost:8080/"
        },
        "id": "r8ooFhW25XUv",
        "outputId": "e8386b47-bf04-421f-f434-7ac7ee06bc47"
      },
      "source": [
        "!pip list -v | grep [Tt]orch"
      ],
      "execution_count": null,
      "outputs": [
        {
          "output_type": "stream",
          "name": "stdout",
          "text": [
            "torch                         1.9.1           /home/ali/anaconda3/envs/mmdetection/lib/python3.7/site-packages\r\n",
            "torchaudio                    0.9.0a0+a85b239 /home/ali/anaconda3/envs/mmdetection/lib/python3.7/site-packages\r\n",
            "torchvision                   0.2.2           /home/ali/anaconda3/envs/mmdetection/lib/python3.7/site-packages\r\n"
          ]
        }
      ]
    },
    {
      "cell_type": "code",
      "metadata": {
        "colab": {
          "base_uri": "https://localhost:8080/"
        },
        "id": "yuwS23uMC9I8",
        "outputId": "dcc31149-4518-45df-c7a9-976fe211e829"
      },
      "source": [
        "!pip list -v | grep [Pp]illow"
      ],
      "execution_count": null,
      "outputs": [
        {
          "output_type": "stream",
          "name": "stdout",
          "text": [
            "Pillow                        8.3.1           /home/ali/anaconda3/envs/mmdetection/lib/python3.7/site-packages conda\r\n"
          ]
        }
      ]
    },
    {
      "cell_type": "code",
      "metadata": {
        "id": "HPMw6JVSIJP-",
        "colab": {
          "base_uri": "https://localhost:8080/"
        },
        "outputId": "c10ec3ee-9601-4483-fdf0-1982dec404a7"
      },
      "source": [
        "!pip list -v | grep [Mm]mcv"
      ],
      "execution_count": null,
      "outputs": [
        {
          "output_type": "stream",
          "name": "stdout",
          "text": [
            "mmcv-full                     1.3.14          /home/ali/anaconda3/envs/mmdetection/lib/python3.7/site-packages pip\r\n"
          ]
        }
      ]
    },
    {
      "cell_type": "code",
      "metadata": {
        "id": "pglp2D1B3b1m"
      },
      "source": [
        "# pip install mmcv-full -f https://download.openmmlab.com/mmcv/dist/cu102/torch1.9.0/index.html"
      ],
      "execution_count": null,
      "outputs": []
    },
    {
      "cell_type": "code",
      "metadata": {
        "id": "5stPORjxzrlW",
        "colab": {
          "base_uri": "https://localhost:8080/"
        },
        "outputId": "c06e2c23-19a2-48f7-ec02-9725e6ae48ca"
      },
      "source": [
        "!ls"
      ],
      "execution_count": null,
      "outputs": [
        {
          "output_type": "stream",
          "name": "stdout",
          "text": [
            "anaconda3  Downloads\t\t\t\t Pictures  Templates\r\n",
            "Desktop    GitHubDesktop-linux-2.9.3-linux3.deb  Public    Videos\r\n",
            "Documents  Music\t\t\t\t snap\r\n"
          ]
        }
      ]
    },
    {
      "cell_type": "code",
      "metadata": {
        "id": "VFzjUptYwHZd",
        "colab": {
          "base_uri": "https://localhost:8080/"
        },
        "outputId": "fd51adc7-4f84-4ae4-85d2-3651d5e86b0e"
      },
      "source": [
        "# # Install mmdetection\n",
        "# !rm -rf mmdetection\n",
        "# !git clone https://github.com/open-mmlab/mmdetection.git\n",
        "# %cd mmdetection\n",
        "\n",
        "# !pip install -e .\n",
        "\n",
        "# # install Pillow 7.0.0 back in order to avoid bug in colab\n",
        "# #!pip install Pillow==7.0.0\n",
        "# #!pip install Pillow"
      ],
      "execution_count": null,
      "outputs": [
        {
          "output_type": "stream",
          "name": "stdout",
          "text": [
            "Obtaining file:///home/ali/Desktop/mmclassification\n",
            "Requirement already satisfied: matplotlib in /home/ali/anaconda3/envs/mmdetection/lib/python3.7/site-packages (from mmcls==0.16.0) (3.4.3)\n",
            "Requirement already satisfied: numpy in /home/ali/anaconda3/envs/mmdetection/lib/python3.7/site-packages (from mmcls==0.16.0) (1.20.3)\n",
            "Requirement already satisfied: packaging in /home/ali/anaconda3/envs/mmdetection/lib/python3.7/site-packages (from mmcls==0.16.0) (21.0)\n",
            "Requirement already satisfied: pillow>=6.2.0 in /home/ali/anaconda3/envs/mmdetection/lib/python3.7/site-packages (from matplotlib->mmcls==0.16.0) (8.3.1)\n",
            "Requirement already satisfied: python-dateutil>=2.7 in /home/ali/anaconda3/envs/mmdetection/lib/python3.7/site-packages (from matplotlib->mmcls==0.16.0) (2.8.2)\n",
            "Requirement already satisfied: pyparsing>=2.2.1 in /home/ali/anaconda3/envs/mmdetection/lib/python3.7/site-packages (from matplotlib->mmcls==0.16.0) (2.4.7)\n",
            "Requirement already satisfied: cycler>=0.10 in /home/ali/anaconda3/envs/mmdetection/lib/python3.7/site-packages (from matplotlib->mmcls==0.16.0) (0.10.0)\n",
            "Requirement already satisfied: kiwisolver>=1.0.1 in /home/ali/anaconda3/envs/mmdetection/lib/python3.7/site-packages (from matplotlib->mmcls==0.16.0) (1.3.2)\n",
            "Requirement already satisfied: six in /home/ali/anaconda3/envs/mmdetection/lib/python3.7/site-packages (from cycler>=0.10->matplotlib->mmcls==0.16.0) (1.16.0)\n",
            "Installing collected packages: mmcls\n",
            "  Running setup.py develop for mmcls\n",
            "Successfully installed mmcls-0.16.0\n"
          ]
        }
      ]
    },
    {
      "cell_type": "code",
      "metadata": {
        "colab": {
          "base_uri": "https://localhost:8080/"
        },
        "id": "3pnSMORi1KnF",
        "outputId": "3c23716b-02e3-4f4b-971c-be31739a5772"
      },
      "source": [
        "# Check Pytorch installation\n",
        "import torch, torchvision\n",
        "print('Torch Version: ',torch.__version__)\n",
        "print('Is Torch CUDA available? ', torch.cuda.is_available())\n",
        "\n",
        "# Check MMDetection installation\n",
        "import mmcls\n",
        "print('MMClassification Version: ', mmcls.__version__)\n",
        "\n",
        "# Check mmcv installation\n",
        "from mmcv.ops import get_compiling_cuda_version, get_compiler_version\n",
        "print('CUDA Compiler Version: ', get_compiling_cuda_version())\n",
        "print('GCC Version: ',get_compiler_version())"
      ],
      "execution_count": null,
      "outputs": [
        {
          "output_type": "stream",
          "name": "stdout",
          "text": [
            "Torch Version:  1.9.1\n",
            "Is Torch CUDA available?  True\n",
            "MMClassification Version:  0.16.0\n",
            "CUDA Compiler Version:  11.1\n",
            "GCC Version:  GCC 9.3\n"
          ]
        }
      ]
    },
    {
      "cell_type": "markdown",
      "metadata": {
        "id": "d8BbC7kTZL6n"
      },
      "source": [
        "##Optional Apex (run)"
      ]
    },
    {
      "cell_type": "code",
      "metadata": {
        "id": "maIp9smiZwDW"
      },
      "source": [
        "# !pip install apex"
      ],
      "execution_count": null,
      "outputs": []
    },
    {
      "cell_type": "code",
      "metadata": {
        "id": "XClt3AgdZ8no"
      },
      "source": [
        "# git clone https://github.com/NVIDIA/apex\n",
        "# cd apex\n",
        "# pip install -v --disable-pip-version-check --no-cache-dir --global-option=\"--cpp_ext\" --global-option=\"--cuda_ext\" ./"
      ],
      "execution_count": null,
      "outputs": []
    },
    {
      "cell_type": "markdown",
      "metadata": {
        "id": "aBks5q2w_8kz"
      },
      "source": [
        "This is original paper implementation, experimental on windows. It is laying on MMDet tool, the issues are cuda version and pytorch,torchvision libraries dependencies. It is not recommended to use original code because it does not comply MMDet standarization proceduers."
      ]
    },
    {
      "cell_type": "markdown",
      "metadata": {
        "id": "uosd98lONH4C"
      },
      "source": [
        "##MMDetection GITHUB (run)"
      ]
    },
    {
      "cell_type": "code",
      "metadata": {
        "id": "lqML98n8zDmI"
      },
      "source": [
        "# cd '/home/ali/Desktop/mmdetection/mmdetection'"
      ],
      "execution_count": null,
      "outputs": []
    },
    {
      "cell_type": "code",
      "metadata": {
        "colab": {
          "base_uri": "https://localhost:8080/"
        },
        "id": "2ode_K_hTPBc",
        "outputId": "b533650f-eb0e-4fa2-e4a7-8af232a2b769"
      },
      "source": [
        "cd '/home/ali/Desktop/mmclassification'"
      ],
      "execution_count": null,
      "outputs": [
        {
          "output_type": "stream",
          "name": "stdout",
          "text": [
            "/home/ali/Desktop/mmclassification\n"
          ]
        }
      ]
    },
    {
      "cell_type": "code",
      "metadata": {
        "colab": {
          "base_uri": "https://localhost:8080/"
        },
        "id": "8vi7GIJO3y7E",
        "outputId": "85b956df-b837-4620-bd0f-5c99d56cb07b"
      },
      "source": [
        "!ls"
      ],
      "execution_count": null,
      "outputs": [
        {
          "output_type": "stream",
          "name": "stdout",
          "text": [
            "anaconda3  Downloads\t\t\t\t Pictures  Templates\r\n",
            "Desktop    GitHubDesktop-linux-2.9.3-linux3.deb  Public    Videos\r\n",
            "Documents  Music\t\t\t\t snap\r\n"
          ]
        }
      ]
    },
    {
      "cell_type": "code",
      "metadata": {
        "id": "oLNj-U9gI4sl"
      },
      "source": [
        "#!mkdir checkpoints"
      ],
      "execution_count": null,
      "outputs": []
    },
    {
      "cell_type": "code",
      "metadata": {
        "id": "o7MMaUUaJrls"
      },
      "source": [
        "from mmcls.apis import inference_model, init_model, show_result_pyplot\n",
        "\n",
        "\n",
        "# config = 'configs/resnet/resnet50_b32x8_TBX11K.py'\n",
        "#config = 'configs/resnet/resnet50_b32x8_TBX11K_C1.py'\n",
        "config = 'configs/swin_transformer/swin_tiny_224_b16x64_300e_TBX11K.py'\n",
        "\n",
        "# initialize the detector\n",
        "model = init_model(config, device='cuda:0')"
      ],
      "execution_count": null,
      "outputs": []
    },
    {
      "cell_type": "code",
      "metadata": {
        "id": "j5vvRnSVjNeS"
      },
      "source": [
        "model"
      ],
      "execution_count": null,
      "outputs": []
    },
    {
      "cell_type": "markdown",
      "metadata": {
        "id": "ct0zDO-HlPh1"
      },
      "source": [
        "##Prepare TBX11K Dataset (run)"
      ]
    },
    {
      "cell_type": "code",
      "metadata": {
        "id": "XQ-4xEdLlRxF"
      },
      "source": [
        "# mkdir data"
      ],
      "execution_count": null,
      "outputs": []
    },
    {
      "cell_type": "code",
      "metadata": {
        "id": "iGc_Dlz9lX_x"
      },
      "source": [
        "# !unzip -q ../drive/MyDrive/TBX11K/TBX11K.zip -d data/\n",
        "# !unzip -q /media/ali/NCAI-MIDL-TB/Datasets/TBX11K.zip -d data/\n"
      ],
      "execution_count": null,
      "outputs": []
    },
    {
      "cell_type": "code",
      "metadata": {
        "colab": {
          "base_uri": "https://localhost:8080/",
          "height": 595
        },
        "id": "7cG1pIIOl_lO",
        "outputId": "a96fef28-142e-4e3c-a327-e01d59a7034b"
      },
      "source": [
        "# Let's take a look at the dataset image\n",
        "%matplotlib inline\n",
        "import mmcv\n",
        "import matplotlib.pyplot as plt\n",
        "\n",
        "img = mmcv.imread('../mmdetection/data/TBX11K/imgs/tb/tb0006.png')\n",
        "plt.figure(figsize=(15, 10))\n",
        "plt.imshow(mmcv.bgr2rgb(img))\n",
        "plt.show()"
      ],
      "execution_count": null,
      "outputs": [
        {
          "output_type": "display_data",
          "data": {
            "text/plain": [
              "<Figure size 1080x720 with 1 Axes>"
            ],
            "image/png": "[encoded data removed]"
          },
          "metadata": {
            "needs_background": "light"
          }
        }
      ]
    },
    {
      "cell_type": "markdown",
      "metadata": {
        "id": "GITjDo1qDISS"
      },
      "source": [
        "### CFG CocoDataset format (run) How to use exisitng COCO format dataset"
      ]
    },
    {
      "cell_type": "code",
      "metadata": {
        "id": "HJQNRbI0YHQQ",
        "colab": {
          "base_uri": "https://localhost:8080/"
        },
        "outputId": "3817ae88-152e-4e0f-84cd-3a74ac58bdd2"
      },
      "source": [
        "from mmcls.apis import set_random_seed\n",
        "import mmcv\n",
        "\n",
        "\n",
        "from mmcv import Config\n",
        "cfg = Config.fromfile(config)\n",
        "print(f'Config:\\n{cfg.pretty_text}')"
      ],
      "execution_count": null,
      "outputs": [
        {
          "output_type": "stream",
          "name": "stdout",
          "text": [
            "Config:\n",
            "model = dict(\n",
            "    type='ImageClassifier',\n",
            "    backbone=dict(\n",
            "        type='SwinTransformer', arch='tiny', img_size=224, drop_path_rate=0.2),\n",
            "    neck=dict(type='GlobalAveragePooling'),\n",
            "    head=dict(\n",
            "        type='MultiLabelLinearClsHead',\n",
            "        num_classes=3,\n",
            "        in_channels=768,\n",
            "        init_cfg=None,\n",
            "        loss=dict(\n",
            "            type='LabelSmoothLoss', label_smooth_val=0.1, mode='multi_label')),\n",
            "    init_cfg=[\n",
            "        dict(type='TruncNormal', layer='Linear', std=0.02, bias=0.0),\n",
            "        dict(type='Constant', layer='LayerNorm', val=1.0, bias=0.0)\n",
            "    ],\n",
            "    train_cfg=dict(augments=[\n",
            "        dict(type='BatchMixup', alpha=0.2, num_classes=3, prob=0.5),\n",
            "        dict(type='BatchCutMix', alpha=1.0, num_classes=3, prob=0.5)\n",
            "    ]))\n",
            "rand_increasing_policies = [\n",
            "    dict(type='AutoContrast'),\n",
            "    dict(type='Equalize'),\n",
            "    dict(type='Invert'),\n",
            "    dict(type='Rotate', magnitude_key='angle', magnitude_range=(0, 30)),\n",
            "    dict(type='Posterize', magnitude_key='bits', magnitude_range=(4, 0)),\n",
            "    dict(type='Solarize', magnitude_key='thr', magnitude_range=(256, 0)),\n",
            "    dict(\n",
            "        type='SolarizeAdd',\n",
            "        magnitude_key='magnitude',\n",
            "        magnitude_range=(0, 110)),\n",
            "    dict(\n",
            "        type='ColorTransform',\n",
            "        magnitude_key='magnitude',\n",
            "        magnitude_range=(0, 0.9)),\n",
            "    dict(type='Contrast', magnitude_key='magnitude', magnitude_range=(0, 0.9)),\n",
            "    dict(\n",
            "        type='Brightness', magnitude_key='magnitude',\n",
            "        magnitude_range=(0, 0.9)),\n",
            "    dict(\n",
            "        type='Sharpness', magnitude_key='magnitude', magnitude_range=(0, 0.9)),\n",
            "    dict(\n",
            "        type='Shear',\n",
            "        magnitude_key='magnitude',\n",
            "        magnitude_range=(0, 0.3),\n",
            "        direction='horizontal'),\n",
            "    dict(\n",
            "        type='Shear',\n",
            "        magnitude_key='magnitude',\n",
            "        magnitude_range=(0, 0.3),\n",
            "        direction='vertical'),\n",
            "    dict(\n",
            "        type='Translate',\n",
            "        magnitude_key='magnitude',\n",
            "        magnitude_range=(0, 0.45),\n",
            "        direction='horizontal'),\n",
            "    dict(\n",
            "        type='Translate',\n",
            "        magnitude_key='magnitude',\n",
            "        magnitude_range=(0, 0.45),\n",
            "        direction='vertical')\n",
            "]\n",
            "dataset_type = 'ImageNet'\n",
            "data_root = '../mmdetection/data/TBX11K/'\n",
            "classes = ('health', 'sick', 'tb')\n",
            "img_norm_cfg = dict(\n",
            "    mean=[123.675, 116.28, 103.53], std=[58.395, 57.12, 57.375], to_rgb=True)\n",
            "train_pipeline = [\n",
            "    dict(type='LoadImageFromFile'),\n",
            "    dict(\n",
            "        type='RandomResizedCrop',\n",
            "        size=224,\n",
            "        backend='pillow',\n",
            "        interpolation='bicubic'),\n",
            "    dict(type='RandomFlip', flip_prob=0.5, direction='horizontal'),\n",
            "    dict(\n",
            "        type='RandAugment',\n",
            "        policies=[\n",
            "            dict(type='AutoContrast'),\n",
            "            dict(type='Equalize'),\n",
            "            dict(type='Invert'),\n",
            "            dict(\n",
            "                type='Rotate', magnitude_key='angle', magnitude_range=(0, 30)),\n",
            "            dict(\n",
            "                type='Posterize', magnitude_key='bits',\n",
            "                magnitude_range=(4, 0)),\n",
            "            dict(\n",
            "                type='Solarize', magnitude_key='thr',\n",
            "                magnitude_range=(256, 0)),\n",
            "            dict(\n",
            "                type='SolarizeAdd',\n",
            "                magnitude_key='magnitude',\n",
            "                magnitude_range=(0, 110)),\n",
            "            dict(\n",
            "                type='ColorTransform',\n",
            "                magnitude_key='magnitude',\n",
            "                magnitude_range=(0, 0.9)),\n",
            "            dict(\n",
            "                type='Contrast',\n",
            "                magnitude_key='magnitude',\n",
            "                magnitude_range=(0, 0.9)),\n",
            "            dict(\n",
            "                type='Brightness',\n",
            "                magnitude_key='magnitude',\n",
            "                magnitude_range=(0, 0.9)),\n",
            "            dict(\n",
            "                type='Sharpness',\n",
            "                magnitude_key='magnitude',\n",
            "                magnitude_range=(0, 0.9)),\n",
            "            dict(\n",
            "                type='Shear',\n",
            "                magnitude_key='magnitude',\n",
            "                magnitude_range=(0, 0.3),\n",
            "                direction='horizontal'),\n",
            "            dict(\n",
            "                type='Shear',\n",
            "                magnitude_key='magnitude',\n",
            "                magnitude_range=(0, 0.3),\n",
            "                direction='vertical'),\n",
            "            dict(\n",
            "                type='Translate',\n",
            "                magnitude_key='magnitude',\n",
            "                magnitude_range=(0, 0.45),\n",
            "                direction='horizontal'),\n",
            "            dict(\n",
            "                type='Translate',\n",
            "                magnitude_key='magnitude',\n",
            "                magnitude_range=(0, 0.45),\n",
            "                direction='vertical')\n",
            "        ],\n",
            "        num_policies=2,\n",
            "        total_level=10,\n",
            "        magnitude_level=7,\n",
            "        magnitude_std=0.5,\n",
            "        hparams=dict(pad_val=[104, 116, 124], interpolation='bicubic')),\n",
            "    dict(\n",
            "        type='RandomErasing',\n",
            "        erase_prob=0.25,\n",
            "        mode='rand',\n",
            "        min_area_ratio=0.02,\n",
            "        max_area_ratio=0.3333333333333333,\n",
            "        fill_color=[103.53, 116.28, 123.675],\n",
            "        fill_std=[57.375, 57.12, 58.395]),\n",
            "    dict(\n",
            "        type='Normalize',\n",
            "        mean=[123.675, 116.28, 103.53],\n",
            "        std=[58.395, 57.12, 57.375],\n",
            "        to_rgb=True),\n",
            "    dict(type='ImageToTensor', keys=['img']),\n",
            "    dict(type='ToTensor', keys=['gt_label']),\n",
            "    dict(type='Collect', keys=['img', 'gt_label'])\n",
            "]\n",
            "test_pipeline = [\n",
            "    dict(type='LoadImageFromFile'),\n",
            "    dict(\n",
            "        type='Resize',\n",
            "        size=(256, -1),\n",
            "        backend='pillow',\n",
            "        interpolation='bicubic'),\n",
            "    dict(type='CenterCrop', crop_size=224),\n",
            "    dict(\n",
            "        type='Normalize',\n",
            "        mean=[123.675, 116.28, 103.53],\n",
            "        std=[58.395, 57.12, 57.375],\n",
            "        to_rgb=True),\n",
            "    dict(type='ImageToTensor', keys=['img']),\n",
            "    dict(type='Collect', keys=['img'])\n",
            "]\n",
            "data = dict(\n",
            "    samples_per_gpu=96,\n",
            "    workers_per_gpu=1,\n",
            "    train=dict(\n",
            "        type='ImageNet',\n",
            "        data_prefix='../mmdetection/data/TBX11K/imgs/',\n",
            "        ann_file='../mmdetection/data/TBX11K/lists/all_trainval_imagenet.txt',\n",
            "        pipeline=[\n",
            "            dict(type='LoadImageFromFile'),\n",
            "            dict(\n",
            "                type='RandomResizedCrop',\n",
            "                size=224,\n",
            "                backend='pillow',\n",
            "                interpolation='bicubic'),\n",
            "            dict(type='RandomFlip', flip_prob=0.5, direction='horizontal'),\n",
            "            dict(\n",
            "                type='RandAugment',\n",
            "                policies=[\n",
            "                    dict(type='AutoContrast'),\n",
            "                    dict(type='Equalize'),\n",
            "                    dict(type='Invert'),\n",
            "                    dict(\n",
            "                        type='Rotate',\n",
            "                        magnitude_key='angle',\n",
            "                        magnitude_range=(0, 30)),\n",
            "                    dict(\n",
            "                        type='Posterize',\n",
            "                        magnitude_key='bits',\n",
            "                        magnitude_range=(4, 0)),\n",
            "                    dict(\n",
            "                        type='Solarize',\n",
            "                        magnitude_key='thr',\n",
            "                        magnitude_range=(256, 0)),\n",
            "                    dict(\n",
            "                        type='SolarizeAdd',\n",
            "                        magnitude_key='magnitude',\n",
            "                        magnitude_range=(0, 110)),\n",
            "                    dict(\n",
            "                        type='ColorTransform',\n",
            "                        magnitude_key='magnitude',\n",
            "                        magnitude_range=(0, 0.9)),\n",
            "                    dict(\n",
            "                        type='Contrast',\n",
            "                        magnitude_key='magnitude',\n",
            "                        magnitude_range=(0, 0.9)),\n",
            "                    dict(\n",
            "                        type='Brightness',\n",
            "                        magnitude_key='magnitude',\n",
            "                        magnitude_range=(0, 0.9)),\n",
            "                    dict(\n",
            "                        type='Sharpness',\n",
            "                        magnitude_key='magnitude',\n",
            "                        magnitude_range=(0, 0.9)),\n",
            "                    dict(\n",
            "                        type='Shear',\n",
            "                        magnitude_key='magnitude',\n",
            "                        magnitude_range=(0, 0.3),\n",
            "                        direction='horizontal'),\n",
            "                    dict(\n",
            "                        type='Shear',\n",
            "                        magnitude_key='magnitude',\n",
            "                        magnitude_range=(0, 0.3),\n",
            "                        direction='vertical'),\n",
            "                    dict(\n",
            "                        type='Translate',\n",
            "                        magnitude_key='magnitude',\n",
            "                        magnitude_range=(0, 0.45),\n",
            "                        direction='horizontal'),\n",
            "                    dict(\n",
            "                        type='Translate',\n",
            "                        magnitude_key='magnitude',\n",
            "                        magnitude_range=(0, 0.45),\n",
            "                        direction='vertical')\n",
            "                ],\n",
            "                num_policies=2,\n",
            "                total_level=10,\n",
            "                magnitude_level=7,\n",
            "                magnitude_std=0.5,\n",
            "                hparams=dict(pad_val=[104, 116, 124],\n",
            "                             interpolation='bicubic')),\n",
            "            dict(\n",
            "                type='RandomErasing',\n",
            "                erase_prob=0.25,\n",
            "                mode='rand',\n",
            "                min_area_ratio=0.02,\n",
            "                max_area_ratio=0.3333333333333333,\n",
            "                fill_color=[103.53, 116.28, 123.675],\n",
            "                fill_std=[57.375, 57.12, 58.395]),\n",
            "            dict(\n",
            "                type='Normalize',\n",
            "                mean=[123.675, 116.28, 103.53],\n",
            "                std=[58.395, 57.12, 57.375],\n",
            "                to_rgb=True),\n",
            "            dict(type='ImageToTensor', keys=['img']),\n",
            "            dict(type='ToTensor', keys=['gt_label']),\n",
            "            dict(type='Collect', keys=['img', 'gt_label'])\n",
            "        ]),\n",
            "    val=dict(\n",
            "        type='ImageNet',\n",
            "        data_prefix='../mmdetection/data/TBX11K/imgs/',\n",
            "        ann_file='../mmdetection/data/TBX11K/lists/all_val_imagenet.txt',\n",
            "        pipeline=[\n",
            "            dict(type='LoadImageFromFile'),\n",
            "            dict(\n",
            "                type='Resize',\n",
            "                size=(256, -1),\n",
            "                backend='pillow',\n",
            "                interpolation='bicubic'),\n",
            "            dict(type='CenterCrop', crop_size=224),\n",
            "            dict(\n",
            "                type='Normalize',\n",
            "                mean=[123.675, 116.28, 103.53],\n",
            "                std=[58.395, 57.12, 57.375],\n",
            "                to_rgb=True),\n",
            "            dict(type='ImageToTensor', keys=['img']),\n",
            "            dict(type='Collect', keys=['img'])\n",
            "        ]),\n",
            "    test=dict(\n",
            "        type='ImageNet',\n",
            "        data_prefix='../mmdetection/data/TBX11K/imgs/',\n",
            "        ann_file='../mmdetection/data/TBX11K/lists/all_test_imagenet.txt',\n",
            "        pipeline=[\n",
            "            dict(type='LoadImageFromFile'),\n",
            "            dict(\n",
            "                type='Resize',\n",
            "                size=(256, -1),\n",
            "                backend='pillow',\n",
            "                interpolation='bicubic'),\n",
            "            dict(type='CenterCrop', crop_size=224),\n",
            "            dict(\n",
            "                type='Normalize',\n",
            "                mean=[123.675, 116.28, 103.53],\n",
            "                std=[58.395, 57.12, 57.375],\n",
            "                to_rgb=True),\n",
            "            dict(type='ImageToTensor', keys=['img']),\n",
            "            dict(type='Collect', keys=['img'])\n",
            "        ]))\n",
            "evaluation = dict(interval=10, metric='accuracy')\n",
            "paramwise_cfg = dict(\n",
            "    norm_decay_mult=0.0,\n",
            "    bias_decay_mult=0.0,\n",
            "    custom_keys=dict({\n",
            "        '.absolute_pos_embed': dict(decay_mult=0.0),\n",
            "        '.relative_position_bias_table': dict(decay_mult=0.0)\n",
            "    }))\n",
            "optimizer = dict(\n",
            "    type='AdamW',\n",
            "    lr=0.0001,\n",
            "    weight_decay=0.05,\n",
            "    betas=(0.9, 0.999),\n",
            "    paramwise_cfg=dict(\n",
            "        norm_decay_mult=0.0,\n",
            "        bias_decay_mult=0.0,\n",
            "        custom_keys=dict({\n",
            "            '.absolute_pos_embed': dict(decay_mult=0.0),\n",
            "            '.relative_position_bias_table': dict(decay_mult=0.0)\n",
            "        })))\n",
            "optimizer_config = dict(grad_clip=None)\n",
            "lr_config = dict(\n",
            "    policy='CosineAnnealing',\n",
            "    by_epoch=False,\n",
            "    min_lr_ratio=0.01,\n",
            "    warmup='linear',\n",
            "    warmup_ratio=0.001,\n",
            "    warmup_iters=467.5,\n",
            "    warmup_by_epoch=False)\n",
            "runner = dict(type='EpochBasedRunner', max_epochs=300)\n",
            "checkpoint_config = dict(interval=1)\n",
            "log_config = dict(interval=100, hooks=[dict(type='TextLoggerHook')])\n",
            "dist_params = dict(backend='nccl')\n",
            "log_level = 'INFO'\n",
            "load_from = None\n",
            "resume_from = None\n",
            "workflow = [('train', 1)]\n",
            "\n"
          ]
        }
      ]
    },
    {
      "cell_type": "code",
      "metadata": {
        "colab": {
          "base_uri": "https://localhost:8080/"
        },
        "id": "ey_kZHSyktMn",
        "outputId": "1304cf36-aa6d-46d1-f33b-8ddb53d92af5"
      },
      "source": [
        "cfg.classes"
      ],
      "execution_count": null,
      "outputs": [
        {
          "output_type": "execute_result",
          "data": {
            "text/plain": [
              "('health', 'sick', 'tb')"
            ]
          },
          "metadata": {},
          "execution_count": 6
        }
      ]
    },
    {
      "cell_type": "code",
      "metadata": {
        "id": "4zuzNGtbq823",
        "colab": {
          "base_uri": "https://localhost:8080/"
        },
        "outputId": "18b2094a-5441-4aec-86e4-776b89266568"
      },
      "source": [
        "\n",
        "\n",
        "#number of classes\n",
        "cfg.model.head.num_classes=3\n",
        "\n",
        "cfg.data.test.classes = cfg.classes\n",
        "cfg.data.train.classes = cfg.classes\n",
        "cfg.data.val.classes = cfg.classes\n",
        "\n",
        "cfg.data.samples_per_gpu = 96 #32\n",
        "cfg.data.workers_per_gpu = 1\n",
        "\n",
        "\n",
        "# Set up working dir to save files and logs.\n",
        "#cfg.work_dir = './tutorial_exps_C1'\n",
        "cfg.work_dir = './tutorial_swin_C1'\n",
        "\n",
        "\n",
        "# cfg.lr_config.step=[330, 420]#swin\n",
        "# cfg.log_config.interval = 38\n",
        "\n",
        "#cfg.load_from = 'https://download.openmmlab.com/mmclassification/v0/resnet/resnet50_8xb32_in1k_20210831-ea4938fc.pth'\n",
        "cfg.load_from = 'https://download.openmmlab.com/mmclassification/v0/swin-transformer/convert/swin_tiny_patch4_window7_224-160bb0a5.pth'\n",
        "\n",
        "\n",
        "# Change the evaluation metric since we use customized dataset.\n",
        "cfg.log_config.interval = 94 ####### 8976 images / batchsize\n",
        "\n",
        "cfg.evaluation.interval = 10\n",
        "# We can set the checkpoint saving interval to reduce the storage cost\n",
        "cfg.checkpoint_config.interval = 10\n",
        "cfg.checkpoint_config.max_keep_ckpts = 2\n",
        "\n",
        "# Set seed thus the results are more reproducible\n",
        "cfg.seed = 0\n",
        "set_random_seed(0, deterministic=False)\n",
        "cfg.gpu_ids = range(1)\n",
        "\n",
        "\n",
        "cfg.runner.max_epochs = 300\n",
        "cfg.total_epochs = 300\n",
        "\n",
        "# We can initialize the logger for training and have a look\n",
        "# at the final config used for training\n",
        "print(f'Config:\\n{cfg.pretty_text}')\n",
        "\n",
        "#with open('configs/resnet/resnet50_b32x8_TBX11K_fullCFG.py', 'w') as f:\n",
        "#with open('configs/resnet/resnet50_b32x8_TBX11K_C1_fullCFG.py', 'w') as f:\n",
        "with open('configs/swin_transformer/swin_tiny_224_b16x64_300e_TBX11K_C1_fullCFG.py', 'w') as f:\n",
        "    f.write(cfg.pretty_text)\n"
      ],
      "execution_count": null,
      "outputs": [
        {
          "output_type": "stream",
          "name": "stdout",
          "text": [
            "Config:\n",
            "model = dict(\n",
            "    type='ImageClassifier',\n",
            "    backbone=dict(\n",
            "        type='SwinTransformer', arch='tiny', img_size=224, drop_path_rate=0.2),\n",
            "    neck=dict(type='GlobalAveragePooling'),\n",
            "    head=dict(\n",
            "        type='MultiLabelLinearClsHead',\n",
            "        num_classes=3,\n",
            "        in_channels=768,\n",
            "        init_cfg=None,\n",
            "        loss=dict(\n",
            "            type='LabelSmoothLoss', label_smooth_val=0.1, mode='multi_label')),\n",
            "    init_cfg=[\n",
            "        dict(type='TruncNormal', layer='Linear', std=0.02, bias=0.0),\n",
            "        dict(type='Constant', layer='LayerNorm', val=1.0, bias=0.0)\n",
            "    ],\n",
            "    train_cfg=dict(augments=[\n",
            "        dict(type='BatchMixup', alpha=0.2, num_classes=3, prob=0.5),\n",
            "        dict(type='BatchCutMix', alpha=1.0, num_classes=3, prob=0.5)\n",
            "    ]))\n",
            "rand_increasing_policies = [\n",
            "    dict(type='AutoContrast'),\n",
            "    dict(type='Equalize'),\n",
            "    dict(type='Invert'),\n",
            "    dict(type='Rotate', magnitude_key='angle', magnitude_range=(0, 30)),\n",
            "    dict(type='Posterize', magnitude_key='bits', magnitude_range=(4, 0)),\n",
            "    dict(type='Solarize', magnitude_key='thr', magnitude_range=(256, 0)),\n",
            "    dict(\n",
            "        type='SolarizeAdd',\n",
            "        magnitude_key='magnitude',\n",
            "        magnitude_range=(0, 110)),\n",
            "    dict(\n",
            "        type='ColorTransform',\n",
            "        magnitude_key='magnitude',\n",
            "        magnitude_range=(0, 0.9)),\n",
            "    dict(type='Contrast', magnitude_key='magnitude', magnitude_range=(0, 0.9)),\n",
            "    dict(\n",
            "        type='Brightness', magnitude_key='magnitude',\n",
            "        magnitude_range=(0, 0.9)),\n",
            "    dict(\n",
            "        type='Sharpness', magnitude_key='magnitude', magnitude_range=(0, 0.9)),\n",
            "    dict(\n",
            "        type='Shear',\n",
            "        magnitude_key='magnitude',\n",
            "        magnitude_range=(0, 0.3),\n",
            "        direction='horizontal'),\n",
            "    dict(\n",
            "        type='Shear',\n",
            "        magnitude_key='magnitude',\n",
            "        magnitude_range=(0, 0.3),\n",
            "        direction='vertical'),\n",
            "    dict(\n",
            "        type='Translate',\n",
            "        magnitude_key='magnitude',\n",
            "        magnitude_range=(0, 0.45),\n",
            "        direction='horizontal'),\n",
            "    dict(\n",
            "        type='Translate',\n",
            "        magnitude_key='magnitude',\n",
            "        magnitude_range=(0, 0.45),\n",
            "        direction='vertical')\n",
            "]\n",
            "dataset_type = 'ImageNet'\n",
            "data_root = '../mmdetection/data/TBX11K/'\n",
            "classes = ('health', 'sick', 'tb')\n",
            "img_norm_cfg = dict(\n",
            "    mean=[123.675, 116.28, 103.53], std=[58.395, 57.12, 57.375], to_rgb=True)\n",
            "train_pipeline = [\n",
            "    dict(type='LoadImageFromFile'),\n",
            "    dict(\n",
            "        type='RandomResizedCrop',\n",
            "        size=224,\n",
            "        backend='pillow',\n",
            "        interpolation='bicubic'),\n",
            "    dict(type='RandomFlip', flip_prob=0.5, direction='horizontal'),\n",
            "    dict(\n",
            "        type='RandAugment',\n",
            "        policies=[\n",
            "            dict(type='AutoContrast'),\n",
            "            dict(type='Equalize'),\n",
            "            dict(type='Invert'),\n",
            "            dict(\n",
            "                type='Rotate', magnitude_key='angle', magnitude_range=(0, 30)),\n",
            "            dict(\n",
            "                type='Posterize', magnitude_key='bits',\n",
            "                magnitude_range=(4, 0)),\n",
            "            dict(\n",
            "                type='Solarize', magnitude_key='thr',\n",
            "                magnitude_range=(256, 0)),\n",
            "            dict(\n",
            "                type='SolarizeAdd',\n",
            "                magnitude_key='magnitude',\n",
            "                magnitude_range=(0, 110)),\n",
            "            dict(\n",
            "                type='ColorTransform',\n",
            "                magnitude_key='magnitude',\n",
            "                magnitude_range=(0, 0.9)),\n",
            "            dict(\n",
            "                type='Contrast',\n",
            "                magnitude_key='magnitude',\n",
            "                magnitude_range=(0, 0.9)),\n",
            "            dict(\n",
            "                type='Brightness',\n",
            "                magnitude_key='magnitude',\n",
            "                magnitude_range=(0, 0.9)),\n",
            "            dict(\n",
            "                type='Sharpness',\n",
            "                magnitude_key='magnitude',\n",
            "                magnitude_range=(0, 0.9)),\n",
            "            dict(\n",
            "                type='Shear',\n",
            "                magnitude_key='magnitude',\n",
            "                magnitude_range=(0, 0.3),\n",
            "                direction='horizontal'),\n",
            "            dict(\n",
            "                type='Shear',\n",
            "                magnitude_key='magnitude',\n",
            "                magnitude_range=(0, 0.3),\n",
            "                direction='vertical'),\n",
            "            dict(\n",
            "                type='Translate',\n",
            "                magnitude_key='magnitude',\n",
            "                magnitude_range=(0, 0.45),\n",
            "                direction='horizontal'),\n",
            "            dict(\n",
            "                type='Translate',\n",
            "                magnitude_key='magnitude',\n",
            "                magnitude_range=(0, 0.45),\n",
            "                direction='vertical')\n",
            "        ],\n",
            "        num_policies=2,\n",
            "        total_level=10,\n",
            "        magnitude_level=7,\n",
            "        magnitude_std=0.5,\n",
            "        hparams=dict(pad_val=[104, 116, 124], interpolation='bicubic')),\n",
            "    dict(\n",
            "        type='RandomErasing',\n",
            "        erase_prob=0.25,\n",
            "        mode='rand',\n",
            "        min_area_ratio=0.02,\n",
            "        max_area_ratio=0.3333333333333333,\n",
            "        fill_color=[103.53, 116.28, 123.675],\n",
            "        fill_std=[57.375, 57.12, 58.395]),\n",
            "    dict(\n",
            "        type='Normalize',\n",
            "        mean=[123.675, 116.28, 103.53],\n",
            "        std=[58.395, 57.12, 57.375],\n",
            "        to_rgb=True),\n",
            "    dict(type='ImageToTensor', keys=['img']),\n",
            "    dict(type='ToTensor', keys=['gt_label']),\n",
            "    dict(type='Collect', keys=['img', 'gt_label'])\n",
            "]\n",
            "test_pipeline = [\n",
            "    dict(type='LoadImageFromFile'),\n",
            "    dict(\n",
            "        type='Resize',\n",
            "        size=(256, -1),\n",
            "        backend='pillow',\n",
            "        interpolation='bicubic'),\n",
            "    dict(type='CenterCrop', crop_size=224),\n",
            "    dict(\n",
            "        type='Normalize',\n",
            "        mean=[123.675, 116.28, 103.53],\n",
            "        std=[58.395, 57.12, 57.375],\n",
            "        to_rgb=True),\n",
            "    dict(type='ImageToTensor', keys=['img']),\n",
            "    dict(type='Collect', keys=['img'])\n",
            "]\n",
            "data = dict(\n",
            "    samples_per_gpu=96,\n",
            "    workers_per_gpu=1,\n",
            "    train=dict(\n",
            "        type='ImageNet',\n",
            "        data_prefix='../mmdetection/data/TBX11K/imgs/',\n",
            "        ann_file='../mmdetection/data/TBX11K/lists/all_trainval_imagenet.txt',\n",
            "        pipeline=[\n",
            "            dict(type='LoadImageFromFile'),\n",
            "            dict(\n",
            "                type='RandomResizedCrop',\n",
            "                size=224,\n",
            "                backend='pillow',\n",
            "                interpolation='bicubic'),\n",
            "            dict(type='RandomFlip', flip_prob=0.5, direction='horizontal'),\n",
            "            dict(\n",
            "                type='RandAugment',\n",
            "                policies=[\n",
            "                    dict(type='AutoContrast'),\n",
            "                    dict(type='Equalize'),\n",
            "                    dict(type='Invert'),\n",
            "                    dict(\n",
            "                        type='Rotate',\n",
            "                        magnitude_key='angle',\n",
            "                        magnitude_range=(0, 30)),\n",
            "                    dict(\n",
            "                        type='Posterize',\n",
            "                        magnitude_key='bits',\n",
            "                        magnitude_range=(4, 0)),\n",
            "                    dict(\n",
            "                        type='Solarize',\n",
            "                        magnitude_key='thr',\n",
            "                        magnitude_range=(256, 0)),\n",
            "                    dict(\n",
            "                        type='SolarizeAdd',\n",
            "                        magnitude_key='magnitude',\n",
            "                        magnitude_range=(0, 110)),\n",
            "                    dict(\n",
            "                        type='ColorTransform',\n",
            "                        magnitude_key='magnitude',\n",
            "                        magnitude_range=(0, 0.9)),\n",
            "                    dict(\n",
            "                        type='Contrast',\n",
            "                        magnitude_key='magnitude',\n",
            "                        magnitude_range=(0, 0.9)),\n",
            "                    dict(\n",
            "                        type='Brightness',\n",
            "                        magnitude_key='magnitude',\n",
            "                        magnitude_range=(0, 0.9)),\n",
            "                    dict(\n",
            "                        type='Sharpness',\n",
            "                        magnitude_key='magnitude',\n",
            "                        magnitude_range=(0, 0.9)),\n",
            "                    dict(\n",
            "                        type='Shear',\n",
            "                        magnitude_key='magnitude',\n",
            "                        magnitude_range=(0, 0.3),\n",
            "                        direction='horizontal'),\n",
            "                    dict(\n",
            "                        type='Shear',\n",
            "                        magnitude_key='magnitude',\n",
            "                        magnitude_range=(0, 0.3),\n",
            "                        direction='vertical'),\n",
            "                    dict(\n",
            "                        type='Translate',\n",
            "                        magnitude_key='magnitude',\n",
            "                        magnitude_range=(0, 0.45),\n",
            "                        direction='horizontal'),\n",
            "                    dict(\n",
            "                        type='Translate',\n",
            "                        magnitude_key='magnitude',\n",
            "                        magnitude_range=(0, 0.45),\n",
            "                        direction='vertical')\n",
            "                ],\n",
            "                num_policies=2,\n",
            "                total_level=10,\n",
            "                magnitude_level=7,\n",
            "                magnitude_std=0.5,\n",
            "                hparams=dict(pad_val=[104, 116, 124],\n",
            "                             interpolation='bicubic')),\n",
            "            dict(\n",
            "                type='RandomErasing',\n",
            "                erase_prob=0.25,\n",
            "                mode='rand',\n",
            "                min_area_ratio=0.02,\n",
            "                max_area_ratio=0.3333333333333333,\n",
            "                fill_color=[103.53, 116.28, 123.675],\n",
            "                fill_std=[57.375, 57.12, 58.395]),\n",
            "            dict(\n",
            "                type='Normalize',\n",
            "                mean=[123.675, 116.28, 103.53],\n",
            "                std=[58.395, 57.12, 57.375],\n",
            "                to_rgb=True),\n",
            "            dict(type='ImageToTensor', keys=['img']),\n",
            "            dict(type='ToTensor', keys=['gt_label']),\n",
            "            dict(type='Collect', keys=['img', 'gt_label'])\n",
            "        ],\n",
            "        classes=('health', 'sick', 'tb')),\n",
            "    val=dict(\n",
            "        type='ImageNet',\n",
            "        data_prefix='../mmdetection/data/TBX11K/imgs/',\n",
            "        ann_file='../mmdetection/data/TBX11K/lists/all_val_imagenet.txt',\n",
            "        pipeline=[\n",
            "            dict(type='LoadImageFromFile'),\n",
            "            dict(\n",
            "                type='Resize',\n",
            "                size=(256, -1),\n",
            "                backend='pillow',\n",
            "                interpolation='bicubic'),\n",
            "            dict(type='CenterCrop', crop_size=224),\n",
            "            dict(\n",
            "                type='Normalize',\n",
            "                mean=[123.675, 116.28, 103.53],\n",
            "                std=[58.395, 57.12, 57.375],\n",
            "                to_rgb=True),\n",
            "            dict(type='ImageToTensor', keys=['img']),\n",
            "            dict(type='Collect', keys=['img'])\n",
            "        ],\n",
            "        classes=('health', 'sick', 'tb')),\n",
            "    test=dict(\n",
            "        type='ImageNet',\n",
            "        data_prefix='../mmdetection/data/TBX11K/imgs/',\n",
            "        ann_file='../mmdetection/data/TBX11K/lists/all_test_imagenet.txt',\n",
            "        pipeline=[\n",
            "            dict(type='LoadImageFromFile'),\n",
            "            dict(\n",
            "                type='Resize',\n",
            "                size=(256, -1),\n",
            "                backend='pillow',\n",
            "                interpolation='bicubic'),\n",
            "            dict(type='CenterCrop', crop_size=224),\n",
            "            dict(\n",
            "                type='Normalize',\n",
            "                mean=[123.675, 116.28, 103.53],\n",
            "                std=[58.395, 57.12, 57.375],\n",
            "                to_rgb=True),\n",
            "            dict(type='ImageToTensor', keys=['img']),\n",
            "            dict(type='Collect', keys=['img'])\n",
            "        ],\n",
            "        classes=('health', 'sick', 'tb')))\n",
            "evaluation = dict(interval=10, metric='accuracy')\n",
            "paramwise_cfg = dict(\n",
            "    norm_decay_mult=0.0,\n",
            "    bias_decay_mult=0.0,\n",
            "    custom_keys=dict({\n",
            "        '.absolute_pos_embed': dict(decay_mult=0.0),\n",
            "        '.relative_position_bias_table': dict(decay_mult=0.0)\n",
            "    }))\n",
            "optimizer = dict(\n",
            "    type='AdamW',\n",
            "    lr=0.0001,\n",
            "    weight_decay=0.05,\n",
            "    betas=(0.9, 0.999),\n",
            "    paramwise_cfg=dict(\n",
            "        norm_decay_mult=0.0,\n",
            "        bias_decay_mult=0.0,\n",
            "        custom_keys=dict({\n",
            "            '.absolute_pos_embed': dict(decay_mult=0.0),\n",
            "            '.relative_position_bias_table': dict(decay_mult=0.0)\n",
            "        })))\n",
            "optimizer_config = dict(grad_clip=None)\n",
            "lr_config = dict(\n",
            "    policy='CosineAnnealing',\n",
            "    by_epoch=False,\n",
            "    min_lr_ratio=0.01,\n",
            "    warmup='linear',\n",
            "    warmup_ratio=0.001,\n",
            "    warmup_iters=467.5,\n",
            "    warmup_by_epoch=False)\n",
            "runner = dict(type='EpochBasedRunner', max_epochs=300)\n",
            "checkpoint_config = dict(interval=10, max_keep_ckpts=2)\n",
            "log_config = dict(interval=94, hooks=[dict(type='TextLoggerHook')])\n",
            "dist_params = dict(backend='nccl')\n",
            "log_level = 'INFO'\n",
            "load_from = 'https://download.openmmlab.com/mmclassification/v0/swin-transformer/convert/swin_tiny_patch4_window7_224-160bb0a5.pth'\n",
            "resume_from = None\n",
            "workflow = [('train', 1)]\n",
            "work_dir = './tutorial_swin_C1'\n",
            "seed = 0\n",
            "gpu_ids = range(0, 1)\n",
            "total_epochs = 300\n",
            "\n"
          ]
        }
      ]
    },
    {
      "cell_type": "markdown",
      "metadata": {
        "id": "QsjItKWLICbf"
      },
      "source": [
        "##Train Detector (run)"
      ]
    },
    {
      "cell_type": "code",
      "metadata": {
        "id": "5s4UHxPTsGyQ"
      },
      "source": [
        "from mmcls.datasets import build_dataset\n",
        "from mmcls.models import build_classifier\n",
        "from mmcls.apis import train_model\n",
        "import os\n",
        "\n",
        "#tbx11k classes\n",
        "\n",
        "# Build dataset\n",
        "datasets = [build_dataset(cfg.data.train)]\n",
        "\n",
        "# Build the detector\n",
        "#model = build_detector(\n",
        "#    cfg.model, train_cfg=cfg.get('train_cfg'), test_cfg=cfg.get('test_cfg'))\n",
        "model = build_classifier(cfg.model)\n",
        "# Add an attribute for visualization convenience\n",
        "#datasets[0].CLASSES = classes\n",
        "model.CLASSES = datasets[0].CLASSES\n",
        "\n",
        "# Create work_dir\n",
        "mmcv.mkdir_or_exist(os.path.abspath(cfg.work_dir))"
      ],
      "execution_count": null,
      "outputs": []
    },
    {
      "cell_type": "code",
      "metadata": {
        "colab": {
          "base_uri": "https://localhost:8080/"
        },
        "id": "Qz-UHwUavIhv",
        "outputId": "671ba2bb-2f16-4126-c48f-6c969bcfa151"
      },
      "source": [
        "train_model(model, datasets, cfg, distributed=False, validate=True)"
      ],
      "execution_count": null,
      "outputs": [
        {
          "output_type": "stream",
          "name": "stderr",
          "text": [
            "2021-11-02 13:49:32,489 - mmcls - INFO - load checkpoint from https://download.openmmlab.com/mmclassification/v0/swin-transformer/convert/swin_tiny_patch4_window7_224-160bb0a5.pth\n",
            "2021-11-02 13:49:32,490 - mmcls - INFO - Use load_from_http loader\n",
            "2021-11-02 13:49:32,590 - mmcls - WARNING - The model and loaded state dict do not match exactly\n",
            "\n",
            "size mismatch for head.fc.weight: copying a param with shape torch.Size([1000, 768]) from checkpoint, the shape in current model is torch.Size([3, 768]).\n",
            "size mismatch for head.fc.bias: copying a param with shape torch.Size([1000]) from checkpoint, the shape in current model is torch.Size([3]).\n",
            "2021-11-02 13:49:32,592 - mmcls - INFO - Start running, host: ali@ali-desktop, work_dir: /home/ali/Desktop/mmclassification/tutorial_swin_C1\n",
            "2021-11-02 13:49:32,593 - mmcls - INFO - Hooks will be executed in the following order:\n",
            "before_run:\n",
            "(VERY_HIGH   ) CosineAnnealingLrUpdaterHook       \n",
            "(NORMAL      ) CheckpointHook                     \n",
            "(LOW         ) EvalHook                           \n",
            "(VERY_LOW    ) TextLoggerHook                     \n",
            " -------------------- \n",
            "before_train_epoch:\n",
            "(VERY_HIGH   ) CosineAnnealingLrUpdaterHook       \n",
            "(LOW         ) IterTimerHook                      \n",
            "(LOW         ) EvalHook                           \n",
            "(VERY_LOW    ) TextLoggerHook                     \n",
            " -------------------- \n",
            "before_train_iter:\n",
            "(VERY_HIGH   ) CosineAnnealingLrUpdaterHook       \n",
            "(LOW         ) IterTimerHook                      \n",
            "(LOW         ) EvalHook                           \n",
            " -------------------- \n",
            "after_train_iter:\n",
            "(ABOVE_NORMAL) OptimizerHook                      \n",
            "(NORMAL      ) CheckpointHook                     \n",
            "(LOW         ) IterTimerHook                      \n",
            "(LOW         ) EvalHook                           \n",
            "(VERY_LOW    ) TextLoggerHook                     \n",
            " -------------------- \n",
            "after_train_epoch:\n",
            "(NORMAL      ) CheckpointHook                     \n",
            "(LOW         ) EvalHook                           \n",
            "(VERY_LOW    ) TextLoggerHook                     \n",
            " -------------------- \n",
            "before_val_epoch:\n",
            "(LOW         ) IterTimerHook                      \n",
            "(VERY_LOW    ) TextLoggerHook                     \n",
            " -------------------- \n",
            "before_val_iter:\n",
            "(LOW         ) IterTimerHook                      \n",
            " -------------------- \n",
            "after_val_iter:\n",
            "(LOW         ) IterTimerHook                      \n",
            " -------------------- \n",
            "after_val_epoch:\n",
            "(VERY_LOW    ) TextLoggerHook                     \n",
            " -------------------- \n",
            "2021-11-02 13:49:32,593 - mmcls - INFO - workflow: [('train', 1)], max: 300 epochs\n",
            "2021-11-02 13:51:50,197 - mmcls - INFO - Epoch [1][94/94]\tlr: 1.997e-05, eta: 11:25:42, time: 1.464, data_time: 0.570, memory: 11111, loss: 1.8921\n",
            "2021-11-02 13:53:56,689 - mmcls - INFO - Epoch [2][94/94]\tlr: 4.006e-05, eta: 10:55:48, time: 1.346, data_time: 0.418, memory: 11111, loss: 1.7152\n",
            "2021-11-02 13:56:04,782 - mmcls - INFO - Epoch [3][94/94]\tlr: 6.013e-05, eta: 10:47:05, time: 1.363, data_time: 0.424, memory: 11111, loss: 1.6611\n",
            "2021-11-02 13:58:10,912 - mmcls - INFO - Epoch [4][94/94]\tlr: 8.020e-05, eta: 10:39:13, time: 1.342, data_time: 0.399, memory: 11111, loss: 1.6386\n",
            "2021-11-02 14:00:16,813 - mmcls - INFO - Epoch [5][94/94]\tlr: 9.993e-05, eta: 10:33:27, time: 1.339, data_time: 0.402, memory: 11111, loss: 1.6099\n",
            "2021-11-02 14:02:22,596 - mmcls - INFO - Epoch [6][94/94]\tlr: 9.990e-05, eta: 10:28:48, time: 1.338, data_time: 0.400, memory: 11111, loss: 1.6025\n",
            "2021-11-02 14:04:23,594 - mmcls - INFO - Epoch [7][94/94]\tlr: 9.987e-05, eta: 10:21:33, time: 1.287, data_time: 0.348, memory: 11111, loss: 1.5648\n",
            "2021-11-02 14:06:26,458 - mmcls - INFO - Epoch [8][94/94]\tlr: 9.983e-05, eta: 10:16:44, time: 1.307, data_time: 0.372, memory: 11111, loss: 1.5502\n",
            "2021-11-02 14:08:27,131 - mmcls - INFO - Epoch [9][94/94]\tlr: 9.978e-05, eta: 10:11:21, time: 1.284, data_time: 0.350, memory: 11111, loss: 1.5375\n",
            "2021-11-02 14:10:28,338 - mmcls - INFO - Epoch [10][94/94]\tlr: 9.973e-05, eta: 10:06:54, time: 1.289, data_time: 0.354, memory: 11111, loss: 1.5375\n",
            "2021-11-02 14:10:28,339 - mmcls - INFO - Saving checkpoint at 10 epochs\n"
          ]
        },
        {
          "output_type": "stream",
          "name": "stdout",
          "text": [
            "[                                                  ] 0/2088, elapsed: 0s, ETA:"
          ]
        },
        {
          "output_type": "stream",
          "name": "stderr",
          "text": [
            "/home/ali/anaconda3/envs/mmdetection/lib/python3.7/site-packages/torch/nn/functional.py:1805: UserWarning: nn.functional.sigmoid is deprecated. Use torch.sigmoid instead.\n",
            "  warnings.warn(\"nn.functional.sigmoid is deprecated. Use torch.sigmoid instead.\")\n"
          ]
        },
        {
          "output_type": "stream",
          "name": "stdout",
          "text": [
            "[>>>>>>>>>>>>>>>>>>>>>>>>>>>] 2088/2088, 88.3 task/s, elapsed: 24s, ETA:     0s"
          ]
        },
        {
          "output_type": "stream",
          "name": "stderr",
          "text": [
            "2021-11-02 14:10:52,496 - mmcls - INFO - Epoch(val) [10][22]\taccuracy_top-1: 94.5402, accuracy_top-5: 100.0000\n",
            "2021-11-02 14:12:53,491 - mmcls - INFO - Epoch [11][94/94]\tlr: 9.967e-05, eta: 10:02:48, time: 1.287, data_time: 0.348, memory: 11111, loss: 1.5198\n",
            "2021-11-02 14:14:54,201 - mmcls - INFO - Epoch [12][94/94]\tlr: 9.961e-05, eta: 9:58:57, time: 1.284, data_time: 0.345, memory: 11111, loss: 1.5118\n",
            "2021-11-02 14:16:55,271 - mmcls - INFO - Epoch [13][94/94]\tlr: 9.954e-05, eta: 9:55:30, time: 1.288, data_time: 0.354, memory: 11111, loss: 1.5263\n",
            "2021-11-02 14:18:57,504 - mmcls - INFO - Epoch [14][94/94]\tlr: 9.947e-05, eta: 9:52:39, time: 1.300, data_time: 0.364, memory: 11111, loss: 1.5086\n",
            "2021-11-02 14:21:15,638 - mmcls - INFO - Epoch [15][94/94]\tlr: 9.939e-05, eta: 9:54:57, time: 1.469, data_time: 0.536, memory: 11111, loss: 1.4936\n",
            "2021-11-02 14:23:13,037 - mmcls - INFO - Epoch [16][94/94]\tlr: 9.931e-05, eta: 9:50:32, time: 1.249, data_time: 0.311, memory: 11111, loss: 1.4572\n",
            "2021-11-02 14:25:10,453 - mmcls - INFO - Epoch [17][94/94]\tlr: 9.922e-05, eta: 9:46:25, time: 1.249, data_time: 0.319, memory: 11111, loss: 1.4858\n",
            "2021-11-02 14:27:07,824 - mmcls - INFO - Epoch [18][94/94]\tlr: 9.912e-05, eta: 9:42:31, time: 1.249, data_time: 0.313, memory: 11111, loss: 1.4709\n",
            "2021-11-02 14:29:05,174 - mmcls - INFO - Epoch [19][94/94]\tlr: 9.902e-05, eta: 9:38:50, time: 1.248, data_time: 0.315, memory: 11111, loss: 1.4829\n",
            "2021-11-02 14:31:02,517 - mmcls - INFO - Epoch [20][94/94]\tlr: 9.892e-05, eta: 9:35:19, time: 1.248, data_time: 0.317, memory: 11111, loss: 1.5150\n",
            "2021-11-02 14:31:02,518 - mmcls - INFO - Saving checkpoint at 20 epochs\n"
          ]
        },
        {
          "output_type": "stream",
          "name": "stdout",
          "text": [
            "[>>>>>>>>>>>>>>>>>>>>>>>>>>>] 2088/2088, 91.5 task/s, elapsed: 23s, ETA:     0s"
          ]
        },
        {
          "output_type": "stream",
          "name": "stderr",
          "text": [
            "2021-11-02 14:31:25,841 - mmcls - INFO - Epoch(val) [20][22]\taccuracy_top-1: 96.8391, accuracy_top-5: 100.0000\n",
            "2021-11-02 14:33:22,817 - mmcls - INFO - Epoch [21][94/94]\tlr: 9.881e-05, eta: 9:31:51, time: 1.244, data_time: 0.311, memory: 11111, loss: 1.4501\n",
            "2021-11-02 14:35:19,989 - mmcls - INFO - Epoch [22][94/94]\tlr: 9.869e-05, eta: 9:28:35, time: 1.246, data_time: 0.310, memory: 11111, loss: 1.4725\n",
            "2021-11-02 14:37:17,470 - mmcls - INFO - Epoch [23][94/94]\tlr: 9.857e-05, eta: 9:25:29, time: 1.250, data_time: 0.313, memory: 11111, loss: 1.4567\n",
            "2021-11-02 14:39:14,689 - mmcls - INFO - Epoch [24][94/94]\tlr: 9.845e-05, eta: 9:22:26, time: 1.247, data_time: 0.317, memory: 11111, loss: 1.4295\n",
            "2021-11-02 14:41:12,029 - mmcls - INFO - Epoch [25][94/94]\tlr: 9.831e-05, eta: 9:19:29, time: 1.248, data_time: 0.316, memory: 11111, loss: 1.4856\n",
            "2021-11-02 14:43:08,988 - mmcls - INFO - Epoch [26][94/94]\tlr: 9.818e-05, eta: 9:16:33, time: 1.244, data_time: 0.312, memory: 11111, loss: 1.4442\n",
            "2021-11-02 14:45:06,324 - mmcls - INFO - Epoch [27][94/94]\tlr: 9.804e-05, eta: 9:13:45, time: 1.248, data_time: 0.318, memory: 11111, loss: 1.4635\n",
            "2021-11-02 14:47:04,100 - mmcls - INFO - Epoch [28][94/94]\tlr: 9.789e-05, eta: 9:11:06, time: 1.253, data_time: 0.321, memory: 11111, loss: 1.4445\n",
            "2021-11-02 14:49:01,071 - mmcls - INFO - Epoch [29][94/94]\tlr: 9.774e-05, eta: 9:08:21, time: 1.244, data_time: 0.310, memory: 11111, loss: 1.4462\n",
            "2021-11-02 14:50:58,199 - mmcls - INFO - Epoch [30][94/94]\tlr: 9.758e-05, eta: 9:05:41, time: 1.246, data_time: 0.315, memory: 11111, loss: 1.4602\n",
            "2021-11-02 14:50:58,200 - mmcls - INFO - Saving checkpoint at 30 epochs\n"
          ]
        },
        {
          "output_type": "stream",
          "name": "stdout",
          "text": [
            "[>>>>>>>>>>>>>>>>>>>>>>>>>>>] 2088/2088, 92.1 task/s, elapsed: 23s, ETA:     0s"
          ]
        },
        {
          "output_type": "stream",
          "name": "stderr",
          "text": [
            "2021-11-02 14:51:21,406 - mmcls - INFO - Epoch(val) [30][22]\taccuracy_top-1: 97.3180, accuracy_top-5: 100.0000\n",
            "2021-11-02 14:53:19,045 - mmcls - INFO - Epoch [31][94/94]\tlr: 9.742e-05, eta: 9:03:08, time: 1.251, data_time: 0.323, memory: 11111, loss: 1.4456\n",
            "2021-11-02 14:55:16,258 - mmcls - INFO - Epoch [32][94/94]\tlr: 9.725e-05, eta: 9:00:34, time: 1.247, data_time: 0.317, memory: 11111, loss: 1.4448\n",
            "2021-11-02 14:57:13,506 - mmcls - INFO - Epoch [33][94/94]\tlr: 9.708e-05, eta: 8:58:02, time: 1.247, data_time: 0.322, memory: 11111, loss: 1.4525\n",
            "2021-11-02 14:59:10,605 - mmcls - INFO - Epoch [34][94/94]\tlr: 9.690e-05, eta: 8:55:32, time: 1.246, data_time: 0.318, memory: 11111, loss: 1.4523\n",
            "2021-11-02 15:01:07,451 - mmcls - INFO - Epoch [35][94/94]\tlr: 9.671e-05, eta: 8:53:01, time: 1.243, data_time: 0.315, memory: 11111, loss: 1.4321\n",
            "2021-11-02 15:03:05,034 - mmcls - INFO - Epoch [36][94/94]\tlr: 9.653e-05, eta: 8:50:37, time: 1.251, data_time: 0.327, memory: 11111, loss: 1.4388\n",
            "2021-11-02 15:05:02,185 - mmcls - INFO - Epoch [37][94/94]\tlr: 9.633e-05, eta: 8:48:12, time: 1.246, data_time: 0.316, memory: 11111, loss: 1.4618\n",
            "2021-11-02 15:06:58,932 - mmcls - INFO - Epoch [38][94/94]\tlr: 9.613e-05, eta: 8:45:46, time: 1.242, data_time: 0.310, memory: 11111, loss: 1.4303\n",
            "2021-11-02 15:08:56,283 - mmcls - INFO - Epoch [39][94/94]\tlr: 9.593e-05, eta: 8:43:25, time: 1.248, data_time: 0.317, memory: 11111, loss: 1.4284\n",
            "2021-11-02 15:10:54,256 - mmcls - INFO - Epoch [40][94/94]\tlr: 9.572e-05, eta: 8:41:09, time: 1.255, data_time: 0.320, memory: 11111, loss: 1.4361\n",
            "2021-11-02 15:10:54,258 - mmcls - INFO - Saving checkpoint at 40 epochs\n"
          ]
        },
        {
          "output_type": "stream",
          "name": "stdout",
          "text": [
            "[>>>>>>>>>>>>>>>>>>>>>>>>>>>] 2088/2088, 92.2 task/s, elapsed: 23s, ETA:     0s"
          ]
        },
        {
          "output_type": "stream",
          "name": "stderr",
          "text": [
            "2021-11-02 15:11:17,436 - mmcls - INFO - Epoch(val) [40][22]\taccuracy_top-1: 96.9828, accuracy_top-5: 100.0000\n",
            "2021-11-02 15:13:14,787 - mmcls - INFO - Epoch [41][94/94]\tlr: 9.551e-05, eta: 8:38:51, time: 1.248, data_time: 0.317, memory: 11111, loss: 1.4327\n",
            "2021-11-02 15:15:11,934 - mmcls - INFO - Epoch [42][94/94]\tlr: 9.529e-05, eta: 8:36:32, time: 1.246, data_time: 0.315, memory: 11111, loss: 1.4215\n",
            "2021-11-02 15:17:09,083 - mmcls - INFO - Epoch [43][94/94]\tlr: 9.507e-05, eta: 8:34:14, time: 1.246, data_time: 0.317, memory: 11111, loss: 1.4384\n",
            "2021-11-02 15:19:06,074 - mmcls - INFO - Epoch [44][94/94]\tlr: 9.484e-05, eta: 8:31:56, time: 1.245, data_time: 0.313, memory: 11111, loss: 1.4348\n",
            "2021-11-02 15:21:03,750 - mmcls - INFO - Epoch [45][94/94]\tlr: 9.461e-05, eta: 8:29:43, time: 1.252, data_time: 0.319, memory: 11111, loss: 1.4382\n",
            "2021-11-02 15:23:01,111 - mmcls - INFO - Epoch [46][94/94]\tlr: 9.437e-05, eta: 8:27:28, time: 1.248, data_time: 0.321, memory: 11111, loss: 1.4383\n",
            "2021-11-02 15:24:58,472 - mmcls - INFO - Epoch [47][94/94]\tlr: 9.413e-05, eta: 8:25:15, time: 1.248, data_time: 0.316, memory: 11111, loss: 1.4322\n",
            "2021-11-02 15:26:55,838 - mmcls - INFO - Epoch [48][94/94]\tlr: 9.388e-05, eta: 8:23:02, time: 1.249, data_time: 0.316, memory: 11111, loss: 1.4077\n",
            "2021-11-02 15:28:53,762 - mmcls - INFO - Epoch [49][94/94]\tlr: 9.363e-05, eta: 8:20:53, time: 1.254, data_time: 0.322, memory: 11111, loss: 1.4082\n",
            "2021-11-02 15:30:51,195 - mmcls - INFO - Epoch [50][94/94]\tlr: 9.337e-05, eta: 8:18:42, time: 1.249, data_time: 0.316, memory: 11111, loss: 1.4081\n",
            "2021-11-02 15:30:51,197 - mmcls - INFO - Saving checkpoint at 50 epochs\n"
          ]
        },
        {
          "output_type": "stream",
          "name": "stdout",
          "text": [
            "[>>>>>>>>>>>>>>>>>>>>>>>>>>>] 2088/2088, 92.2 task/s, elapsed: 23s, ETA:     0s"
          ]
        },
        {
          "output_type": "stream",
          "name": "stderr",
          "text": [
            "2021-11-02 15:31:14,385 - mmcls - INFO - Epoch(val) [50][22]\taccuracy_top-1: 97.2222, accuracy_top-5: 100.0000\n",
            "2021-11-02 15:33:11,512 - mmcls - INFO - Epoch [51][94/94]\tlr: 9.311e-05, eta: 8:16:29, time: 1.246, data_time: 0.317, memory: 11111, loss: 1.4152\n",
            "2021-11-02 15:35:08,793 - mmcls - INFO - Epoch [52][94/94]\tlr: 9.284e-05, eta: 8:14:19, time: 1.248, data_time: 0.314, memory: 11111, loss: 1.3901\n",
            "2021-11-02 15:37:05,874 - mmcls - INFO - Epoch [53][94/94]\tlr: 9.257e-05, eta: 8:12:07, time: 1.245, data_time: 0.310, memory: 11111, loss: 1.4292\n",
            "2021-11-02 15:39:03,267 - mmcls - INFO - Epoch [54][94/94]\tlr: 9.230e-05, eta: 8:09:58, time: 1.249, data_time: 0.317, memory: 11111, loss: 1.4162\n",
            "2021-11-02 15:41:00,274 - mmcls - INFO - Epoch [55][94/94]\tlr: 9.202e-05, eta: 8:07:47, time: 1.245, data_time: 0.310, memory: 11111, loss: 1.3861\n",
            "2021-11-02 15:42:57,381 - mmcls - INFO - Epoch [56][94/94]\tlr: 9.173e-05, eta: 8:05:37, time: 1.246, data_time: 0.310, memory: 11111, loss: 1.4078\n",
            "2021-11-02 15:44:54,510 - mmcls - INFO - Epoch [57][94/94]\tlr: 9.144e-05, eta: 8:03:28, time: 1.246, data_time: 0.316, memory: 11111, loss: 1.4300\n",
            "2021-11-02 15:46:52,418 - mmcls - INFO - Epoch [58][94/94]\tlr: 9.115e-05, eta: 8:01:23, time: 1.254, data_time: 0.319, memory: 11111, loss: 1.4298\n",
            "2021-11-02 15:48:49,500 - mmcls - INFO - Epoch [59][94/94]\tlr: 9.085e-05, eta: 7:59:14, time: 1.245, data_time: 0.310, memory: 11111, loss: 1.4090\n",
            "2021-11-02 15:50:46,203 - mmcls - INFO - Epoch [60][94/94]\tlr: 9.055e-05, eta: 7:57:04, time: 1.241, data_time: 0.309, memory: 11111, loss: 1.4101\n",
            "2021-11-02 15:50:46,205 - mmcls - INFO - Saving checkpoint at 60 epochs\n"
          ]
        },
        {
          "output_type": "stream",
          "name": "stdout",
          "text": [
            "[>>>>>>>>>>>>>>>>>>>>>>>>>>>] 2088/2088, 91.4 task/s, elapsed: 23s, ETA:     0s"
          ]
        },
        {
          "output_type": "stream",
          "name": "stderr",
          "text": [
            "2021-11-02 15:51:09,579 - mmcls - INFO - Epoch(val) [60][22]\taccuracy_top-1: 98.5632, accuracy_top-5: 100.0000\n",
            "2021-11-02 15:53:06,701 - mmcls - INFO - Epoch [61][94/94]\tlr: 9.024e-05, eta: 7:54:57, time: 1.246, data_time: 0.313, memory: 11111, loss: 1.4134\n",
            "2021-11-02 15:55:03,776 - mmcls - INFO - Epoch [62][94/94]\tlr: 8.993e-05, eta: 7:52:49, time: 1.245, data_time: 0.309, memory: 11111, loss: 1.4011\n",
            "2021-11-02 15:57:00,785 - mmcls - INFO - Epoch [63][94/94]\tlr: 8.962e-05, eta: 7:50:42, time: 1.245, data_time: 0.314, memory: 11111, loss: 1.3728\n",
            "2021-11-02 15:58:57,913 - mmcls - INFO - Epoch [64][94/94]\tlr: 8.930e-05, eta: 7:48:35, time: 1.246, data_time: 0.312, memory: 11111, loss: 1.4132\n",
            "2021-11-02 16:00:54,908 - mmcls - INFO - Epoch [65][94/94]\tlr: 8.897e-05, eta: 7:46:28, time: 1.245, data_time: 0.310, memory: 11111, loss: 1.3979\n",
            "2021-11-02 16:02:51,797 - mmcls - INFO - Epoch [66][94/94]\tlr: 8.864e-05, eta: 7:44:21, time: 1.243, data_time: 0.311, memory: 11111, loss: 1.4119\n",
            "2021-11-02 16:04:48,781 - mmcls - INFO - Epoch [67][94/94]\tlr: 8.831e-05, eta: 7:42:15, time: 1.244, data_time: 0.311, memory: 11111, loss: 1.3989\n",
            "2021-11-02 16:06:45,718 - mmcls - INFO - Epoch [68][94/94]\tlr: 8.797e-05, eta: 7:40:08, time: 1.244, data_time: 0.313, memory: 11111, loss: 1.3615\n",
            "2021-11-02 16:08:43,290 - mmcls - INFO - Epoch [69][94/94]\tlr: 8.763e-05, eta: 7:38:05, time: 1.251, data_time: 0.318, memory: 11111, loss: 1.3677\n",
            "2021-11-02 16:10:40,765 - mmcls - INFO - Epoch [70][94/94]\tlr: 8.729e-05, eta: 7:36:01, time: 1.250, data_time: 0.319, memory: 11111, loss: 1.4125\n",
            "2021-11-02 16:10:40,767 - mmcls - INFO - Saving checkpoint at 70 epochs\n"
          ]
        },
        {
          "output_type": "stream",
          "name": "stdout",
          "text": [
            "[>>>>>>>>>>>>>>>>>>>>>>>>>>>] 2088/2088, 92.2 task/s, elapsed: 23s, ETA:     0s"
          ]
        },
        {
          "output_type": "stream",
          "name": "stderr",
          "text": [
            "2021-11-02 16:11:03,944 - mmcls - INFO - Epoch(val) [70][22]\taccuracy_top-1: 98.5632, accuracy_top-5: 100.0000\n",
            "2021-11-02 16:13:01,505 - mmcls - INFO - Epoch [71][94/94]\tlr: 8.694e-05, eta: 7:33:57, time: 1.251, data_time: 0.314, memory: 11111, loss: 1.4140\n",
            "2021-11-02 16:14:58,825 - mmcls - INFO - Epoch [72][94/94]\tlr: 8.659e-05, eta: 7:31:53, time: 1.248, data_time: 0.308, memory: 11111, loss: 1.4139\n",
            "2021-11-02 16:16:55,422 - mmcls - INFO - Epoch [73][94/94]\tlr: 8.623e-05, eta: 7:29:47, time: 1.240, data_time: 0.303, memory: 11111, loss: 1.4039\n",
            "2021-11-02 16:18:52,756 - mmcls - INFO - Epoch [74][94/94]\tlr: 8.587e-05, eta: 7:27:43, time: 1.248, data_time: 0.318, memory: 11111, loss: 1.3681\n",
            "2021-11-02 16:20:50,116 - mmcls - INFO - Epoch [75][94/94]\tlr: 8.551e-05, eta: 7:25:40, time: 1.248, data_time: 0.317, memory: 11111, loss: 1.4096\n",
            "2021-11-02 16:22:47,539 - mmcls - INFO - Epoch [76][94/94]\tlr: 8.514e-05, eta: 7:23:37, time: 1.249, data_time: 0.313, memory: 11111, loss: 1.3872\n",
            "2021-11-02 16:24:44,648 - mmcls - INFO - Epoch [77][94/94]\tlr: 8.477e-05, eta: 7:21:33, time: 1.246, data_time: 0.312, memory: 11111, loss: 1.3905\n",
            "2021-11-02 16:26:41,575 - mmcls - INFO - Epoch [78][94/94]\tlr: 8.439e-05, eta: 7:19:29, time: 1.244, data_time: 0.310, memory: 11111, loss: 1.4016\n",
            "2021-11-02 16:28:38,123 - mmcls - INFO - Epoch [79][94/94]\tlr: 8.401e-05, eta: 7:17:24, time: 1.240, data_time: 0.305, memory: 11111, loss: 1.3812\n",
            "2021-11-02 16:30:39,754 - mmcls - INFO - Epoch [80][94/94]\tlr: 8.363e-05, eta: 7:15:33, time: 1.294, data_time: 0.359, memory: 11111, loss: 1.3770\n",
            "2021-11-02 16:30:39,755 - mmcls - INFO - Saving checkpoint at 80 epochs\n"
          ]
        },
        {
          "output_type": "stream",
          "name": "stdout",
          "text": [
            "[>>>>>>>>>>>>>>>>>>>>>>>>>>>] 2088/2088, 91.8 task/s, elapsed: 23s, ETA:     0s"
          ]
        },
        {
          "output_type": "stream",
          "name": "stderr",
          "text": [
            "2021-11-02 16:31:03,057 - mmcls - INFO - Epoch(val) [80][22]\taccuracy_top-1: 98.4674, accuracy_top-5: 100.0000\n",
            "2021-11-02 16:32:59,835 - mmcls - INFO - Epoch [81][94/94]\tlr: 8.324e-05, eta: 7:13:29, time: 1.242, data_time: 0.306, memory: 11111, loss: 1.4098\n",
            "2021-11-02 16:34:56,764 - mmcls - INFO - Epoch [82][94/94]\tlr: 8.285e-05, eta: 7:11:25, time: 1.244, data_time: 0.309, memory: 11111, loss: 1.3840\n",
            "2021-11-02 16:36:53,865 - mmcls - INFO - Epoch [83][94/94]\tlr: 8.245e-05, eta: 7:09:22, time: 1.246, data_time: 0.312, memory: 11111, loss: 1.3897\n",
            "2021-11-02 16:38:51,316 - mmcls - INFO - Epoch [84][94/94]\tlr: 8.206e-05, eta: 7:07:20, time: 1.249, data_time: 0.319, memory: 11111, loss: 1.3766\n",
            "2021-11-02 16:40:48,411 - mmcls - INFO - Epoch [85][94/94]\tlr: 8.166e-05, eta: 7:05:17, time: 1.246, data_time: 0.314, memory: 11111, loss: 1.3732\n",
            "2021-11-02 16:42:45,799 - mmcls - INFO - Epoch [86][94/94]\tlr: 8.125e-05, eta: 7:03:15, time: 1.249, data_time: 0.316, memory: 11111, loss: 1.3911\n",
            "2021-11-02 16:44:43,165 - mmcls - INFO - Epoch [87][94/94]\tlr: 8.084e-05, eta: 7:01:13, time: 1.249, data_time: 0.315, memory: 11111, loss: 1.3935\n",
            "2021-11-02 16:46:40,093 - mmcls - INFO - Epoch [88][94/94]\tlr: 8.043e-05, eta: 6:59:11, time: 1.244, data_time: 0.311, memory: 11111, loss: 1.3810\n",
            "2021-11-02 16:48:37,268 - mmcls - INFO - Epoch [89][94/94]\tlr: 8.002e-05, eta: 6:57:08, time: 1.246, data_time: 0.311, memory: 11111, loss: 1.3765\n",
            "2021-11-02 16:50:34,204 - mmcls - INFO - Epoch [90][94/94]\tlr: 7.960e-05, eta: 6:55:06, time: 1.244, data_time: 0.315, memory: 11111, loss: 1.3698\n",
            "2021-11-02 16:50:34,205 - mmcls - INFO - Saving checkpoint at 90 epochs\n"
          ]
        },
        {
          "output_type": "stream",
          "name": "stdout",
          "text": [
            "[>>>>>>>>>>>>>>>>>>>>>>>>>>>] 2088/2088, 92.3 task/s, elapsed: 23s, ETA:     0s"
          ]
        },
        {
          "output_type": "stream",
          "name": "stderr",
          "text": [
            "2021-11-02 16:50:57,375 - mmcls - INFO - Epoch(val) [90][22]\taccuracy_top-1: 98.6111, accuracy_top-5: 100.0000\n",
            "2021-11-02 16:52:54,673 - mmcls - INFO - Epoch [91][94/94]\tlr: 7.918e-05, eta: 6:53:04, time: 1.248, data_time: 0.315, memory: 11111, loss: 1.3682\n",
            "2021-11-02 16:54:51,709 - mmcls - INFO - Epoch [92][94/94]\tlr: 7.875e-05, eta: 6:51:02, time: 1.245, data_time: 0.308, memory: 11111, loss: 1.3858\n",
            "2021-11-02 16:56:57,154 - mmcls - INFO - Epoch [93][94/94]\tlr: 7.833e-05, eta: 6:49:19, time: 1.334, data_time: 0.406, memory: 11111, loss: 1.3813\n",
            "2021-11-02 16:58:54,140 - mmcls - INFO - Epoch [94][94/94]\tlr: 7.790e-05, eta: 6:47:17, time: 1.244, data_time: 0.309, memory: 11111, loss: 1.3813\n",
            "2021-11-02 17:00:51,492 - mmcls - INFO - Epoch [95][94/94]\tlr: 7.746e-05, eta: 6:45:15, time: 1.248, data_time: 0.314, memory: 11111, loss: 1.3890\n",
            "2021-11-02 17:02:48,727 - mmcls - INFO - Epoch [96][94/94]\tlr: 7.703e-05, eta: 6:43:14, time: 1.247, data_time: 0.312, memory: 11111, loss: 1.3612\n",
            "2021-11-02 17:04:45,501 - mmcls - INFO - Epoch [97][94/94]\tlr: 7.659e-05, eta: 6:41:11, time: 1.242, data_time: 0.308, memory: 11111, loss: 1.3854\n",
            "2021-11-02 17:06:42,815 - mmcls - INFO - Epoch [98][94/94]\tlr: 7.615e-05, eta: 6:39:10, time: 1.248, data_time: 0.312, memory: 11111, loss: 1.3825\n",
            "2021-11-02 17:08:40,249 - mmcls - INFO - Epoch [99][94/94]\tlr: 7.570e-05, eta: 6:37:09, time: 1.249, data_time: 0.319, memory: 11111, loss: 1.3873\n",
            "2021-11-02 17:10:37,828 - mmcls - INFO - Epoch [100][94/94]\tlr: 7.525e-05, eta: 6:35:09, time: 1.251, data_time: 0.328, memory: 11111, loss: 1.3722\n",
            "2021-11-02 17:10:37,829 - mmcls - INFO - Saving checkpoint at 100 epochs\n"
          ]
        },
        {
          "output_type": "stream",
          "name": "stdout",
          "text": [
            "[>>>>>>>>>>>>>>>>>>>>>>>>>>>] 2088/2088, 91.5 task/s, elapsed: 23s, ETA:     0s"
          ]
        },
        {
          "output_type": "stream",
          "name": "stderr",
          "text": [
            "2021-11-02 17:11:01,177 - mmcls - INFO - Epoch(val) [100][22]\taccuracy_top-1: 98.8506, accuracy_top-5: 100.0000\n",
            "2021-11-02 17:12:59,009 - mmcls - INFO - Epoch [101][94/94]\tlr: 7.480e-05, eta: 6:33:09, time: 1.253, data_time: 0.328, memory: 11111, loss: 1.3600\n",
            "2021-11-02 17:14:56,075 - mmcls - INFO - Epoch [102][94/94]\tlr: 7.435e-05, eta: 6:31:07, time: 1.245, data_time: 0.316, memory: 11111, loss: 1.3623\n",
            "2021-11-02 17:16:53,357 - mmcls - INFO - Epoch [103][94/94]\tlr: 7.390e-05, eta: 6:29:06, time: 1.248, data_time: 0.312, memory: 11111, loss: 1.3827\n",
            "2021-11-02 17:18:50,182 - mmcls - INFO - Epoch [104][94/94]\tlr: 7.344e-05, eta: 6:27:05, time: 1.243, data_time: 0.314, memory: 11111, loss: 1.3594\n",
            "2021-11-02 17:20:47,951 - mmcls - INFO - Epoch [105][94/94]\tlr: 7.298e-05, eta: 6:25:05, time: 1.253, data_time: 0.319, memory: 11111, loss: 1.3457\n",
            "2021-11-02 17:22:45,192 - mmcls - INFO - Epoch [106][94/94]\tlr: 7.251e-05, eta: 6:23:04, time: 1.247, data_time: 0.316, memory: 11111, loss: 1.3756\n",
            "2021-11-02 17:24:42,291 - mmcls - INFO - Epoch [107][94/94]\tlr: 7.205e-05, eta: 6:21:03, time: 1.246, data_time: 0.311, memory: 11111, loss: 1.3660\n",
            "2021-11-02 17:26:39,186 - mmcls - INFO - Epoch [108][94/94]\tlr: 7.158e-05, eta: 6:19:02, time: 1.243, data_time: 0.312, memory: 11111, loss: 1.3288\n",
            "2021-11-02 17:28:36,319 - mmcls - INFO - Epoch [109][94/94]\tlr: 7.111e-05, eta: 6:17:01, time: 1.246, data_time: 0.316, memory: 11111, loss: 1.3861\n",
            "2021-11-02 17:30:33,723 - mmcls - INFO - Epoch [110][94/94]\tlr: 7.064e-05, eta: 6:15:01, time: 1.249, data_time: 0.316, memory: 11111, loss: 1.3268\n",
            "2021-11-02 17:30:33,725 - mmcls - INFO - Saving checkpoint at 110 epochs\n"
          ]
        },
        {
          "output_type": "stream",
          "name": "stdout",
          "text": [
            "[>>>>>>>>>>>>>>>>>>>>>>>>>>>] 2088/2088, 92.1 task/s, elapsed: 23s, ETA:     0s"
          ]
        },
        {
          "output_type": "stream",
          "name": "stderr",
          "text": [
            "2021-11-02 17:30:56,924 - mmcls - INFO - Epoch(val) [110][22]\taccuracy_top-1: 98.6111, accuracy_top-5: 100.0000\n",
            "2021-11-02 17:32:53,783 - mmcls - INFO - Epoch [111][94/94]\tlr: 7.016e-05, eta: 6:13:00, time: 1.243, data_time: 0.308, memory: 11111, loss: 1.3537\n",
            "2021-11-02 17:34:50,725 - mmcls - INFO - Epoch [112][94/94]\tlr: 6.969e-05, eta: 6:10:59, time: 1.244, data_time: 0.306, memory: 11111, loss: 1.3702\n",
            "2021-11-02 17:36:48,113 - mmcls - INFO - Epoch [113][94/94]\tlr: 6.921e-05, eta: 6:08:59, time: 1.249, data_time: 0.314, memory: 11111, loss: 1.3530\n",
            "2021-11-02 17:38:45,250 - mmcls - INFO - Epoch [114][94/94]\tlr: 6.873e-05, eta: 6:06:58, time: 1.246, data_time: 0.315, memory: 11111, loss: 1.3762\n",
            "2021-11-02 17:40:42,319 - mmcls - INFO - Epoch [115][94/94]\tlr: 6.824e-05, eta: 6:04:58, time: 1.245, data_time: 0.312, memory: 11111, loss: 1.3787\n",
            "2021-11-02 17:42:39,827 - mmcls - INFO - Epoch [116][94/94]\tlr: 6.776e-05, eta: 6:02:58, time: 1.250, data_time: 0.313, memory: 11111, loss: 1.3537\n",
            "2021-11-02 17:44:36,900 - mmcls - INFO - Epoch [117][94/94]\tlr: 6.727e-05, eta: 6:00:58, time: 1.245, data_time: 0.313, memory: 11111, loss: 1.3042\n",
            "2021-11-02 17:46:34,281 - mmcls - INFO - Epoch [118][94/94]\tlr: 6.678e-05, eta: 5:58:58, time: 1.249, data_time: 0.320, memory: 11111, loss: 1.3580\n",
            "2021-11-02 17:48:30,996 - mmcls - INFO - Epoch [119][94/94]\tlr: 6.629e-05, eta: 5:56:57, time: 1.242, data_time: 0.313, memory: 11111, loss: 1.3456\n",
            "2021-11-02 17:50:28,341 - mmcls - INFO - Epoch [120][94/94]\tlr: 6.580e-05, eta: 5:54:57, time: 1.248, data_time: 0.317, memory: 11111, loss: 1.3816\n",
            "2021-11-02 17:50:28,342 - mmcls - INFO - Saving checkpoint at 120 epochs\n"
          ]
        },
        {
          "output_type": "stream",
          "name": "stdout",
          "text": [
            "[>>>>>>>>>>>>>>>>>>>>>>>>>>>] 2088/2088, 92.0 task/s, elapsed: 23s, ETA:     0s"
          ]
        },
        {
          "output_type": "stream",
          "name": "stderr",
          "text": [
            "2021-11-02 17:50:51,573 - mmcls - INFO - Epoch(val) [120][22]\taccuracy_top-1: 98.8985, accuracy_top-5: 100.0000\n",
            "2021-11-02 17:52:48,970 - mmcls - INFO - Epoch [121][94/94]\tlr: 6.531e-05, eta: 5:52:57, time: 1.249, data_time: 0.309, memory: 11111, loss: 1.3658\n",
            "2021-11-02 17:54:46,042 - mmcls - INFO - Epoch [122][94/94]\tlr: 6.481e-05, eta: 5:50:57, time: 1.245, data_time: 0.319, memory: 11111, loss: 1.3560\n",
            "2021-11-02 17:56:43,061 - mmcls - INFO - Epoch [123][94/94]\tlr: 6.432e-05, eta: 5:48:57, time: 1.245, data_time: 0.321, memory: 11111, loss: 1.3564\n",
            "2021-11-02 17:58:40,083 - mmcls - INFO - Epoch [124][94/94]\tlr: 6.382e-05, eta: 5:46:57, time: 1.245, data_time: 0.315, memory: 11111, loss: 1.3398\n",
            "2021-11-02 18:00:37,377 - mmcls - INFO - Epoch [125][94/94]\tlr: 6.332e-05, eta: 5:44:57, time: 1.248, data_time: 0.317, memory: 11111, loss: 1.3728\n",
            "2021-11-02 18:02:34,454 - mmcls - INFO - Epoch [126][94/94]\tlr: 6.282e-05, eta: 5:42:57, time: 1.245, data_time: 0.315, memory: 11111, loss: 1.3470\n",
            "2021-11-02 18:04:31,523 - mmcls - INFO - Epoch [127][94/94]\tlr: 6.231e-05, eta: 5:40:57, time: 1.245, data_time: 0.317, memory: 11111, loss: 1.3464\n",
            "2021-11-02 18:06:28,652 - mmcls - INFO - Epoch [128][94/94]\tlr: 6.181e-05, eta: 5:38:58, time: 1.246, data_time: 0.315, memory: 11111, loss: 1.3850\n",
            "2021-11-02 18:08:25,839 - mmcls - INFO - Epoch [129][94/94]\tlr: 6.130e-05, eta: 5:36:58, time: 1.247, data_time: 0.311, memory: 11111, loss: 1.3629\n",
            "2021-11-02 18:10:23,419 - mmcls - INFO - Epoch [130][94/94]\tlr: 6.080e-05, eta: 5:34:59, time: 1.251, data_time: 0.321, memory: 11111, loss: 1.3411\n",
            "2021-11-02 18:10:23,421 - mmcls - INFO - Saving checkpoint at 130 epochs\n"
          ]
        },
        {
          "output_type": "stream",
          "name": "stdout",
          "text": [
            "[>>>>>>>>>>>>>>>>>>>>>>>>>>>] 2088/2088, 91.8 task/s, elapsed: 23s, ETA:     0s"
          ]
        },
        {
          "output_type": "stream",
          "name": "stderr",
          "text": [
            "2021-11-02 18:10:46,696 - mmcls - INFO - Epoch(val) [130][22]\taccuracy_top-1: 98.9464, accuracy_top-5: 100.0000\n",
            "2021-11-02 18:12:44,286 - mmcls - INFO - Epoch [131][94/94]\tlr: 6.029e-05, eta: 5:33:00, time: 1.251, data_time: 0.314, memory: 11111, loss: 1.3572\n",
            "2021-11-02 18:14:41,621 - mmcls - INFO - Epoch [132][94/94]\tlr: 5.978e-05, eta: 5:31:01, time: 1.248, data_time: 0.310, memory: 11111, loss: 1.3368\n",
            "2021-11-02 18:16:38,736 - mmcls - INFO - Epoch [133][94/94]\tlr: 5.927e-05, eta: 5:29:01, time: 1.246, data_time: 0.317, memory: 11111, loss: 1.3540\n",
            "2021-11-02 18:18:35,578 - mmcls - INFO - Epoch [134][94/94]\tlr: 5.876e-05, eta: 5:27:01, time: 1.243, data_time: 0.318, memory: 11111, loss: 1.3248\n",
            "2021-11-02 18:20:33,310 - mmcls - INFO - Epoch [135][94/94]\tlr: 5.825e-05, eta: 5:25:02, time: 1.252, data_time: 0.322, memory: 11111, loss: 1.3287\n",
            "2021-11-02 18:22:30,436 - mmcls - INFO - Epoch [136][94/94]\tlr: 5.774e-05, eta: 5:23:03, time: 1.246, data_time: 0.315, memory: 11111, loss: 1.3475\n",
            "2021-11-02 18:24:27,293 - mmcls - INFO - Epoch [137][94/94]\tlr: 5.722e-05, eta: 5:21:03, time: 1.243, data_time: 0.307, memory: 11111, loss: 1.3807\n",
            "2021-11-02 18:26:24,551 - mmcls - INFO - Epoch [138][94/94]\tlr: 5.671e-05, eta: 5:19:04, time: 1.247, data_time: 0.316, memory: 11111, loss: 1.3369\n",
            "2021-11-02 18:28:21,677 - mmcls - INFO - Epoch [139][94/94]\tlr: 5.619e-05, eta: 5:17:04, time: 1.246, data_time: 0.308, memory: 11111, loss: 1.3479\n",
            "2021-11-02 18:30:30,750 - mmcls - INFO - Epoch [140][94/94]\tlr: 5.568e-05, eta: 5:15:19, time: 1.373, data_time: 0.443, memory: 11111, loss: 1.3274\n",
            "2021-11-02 18:30:30,751 - mmcls - INFO - Saving checkpoint at 140 epochs\n"
          ]
        },
        {
          "output_type": "stream",
          "name": "stdout",
          "text": [
            "[>>>>>>>>>>>>>>>>>>>>>>>>>>>] 2088/2088, 84.9 task/s, elapsed: 25s, ETA:     0s"
          ]
        },
        {
          "output_type": "stream",
          "name": "stderr",
          "text": [
            "2021-11-02 18:30:56,003 - mmcls - INFO - Epoch(val) [140][22]\taccuracy_top-1: 99.1858, accuracy_top-5: 100.0000\n",
            "2021-11-02 18:33:00,703 - mmcls - INFO - Epoch [141][94/94]\tlr: 5.516e-05, eta: 5:13:28, time: 1.327, data_time: 0.389, memory: 11111, loss: 1.3308\n",
            "2021-11-02 18:35:05,117 - mmcls - INFO - Epoch [142][94/94]\tlr: 5.465e-05, eta: 5:11:36, time: 1.323, data_time: 0.383, memory: 11111, loss: 1.3568\n",
            "2021-11-02 18:37:09,997 - mmcls - INFO - Epoch [143][94/94]\tlr: 5.413e-05, eta: 5:09:45, time: 1.328, data_time: 0.392, memory: 11111, loss: 1.3442\n",
            "2021-11-02 18:39:15,262 - mmcls - INFO - Epoch [144][94/94]\tlr: 5.361e-05, eta: 5:07:54, time: 1.333, data_time: 0.399, memory: 11111, loss: 1.3549\n",
            "2021-11-02 18:41:21,313 - mmcls - INFO - Epoch [145][94/94]\tlr: 5.310e-05, eta: 5:06:04, time: 1.341, data_time: 0.406, memory: 11111, loss: 1.3326\n",
            "2021-11-02 18:43:18,569 - mmcls - INFO - Epoch [146][94/94]\tlr: 5.258e-05, eta: 5:04:04, time: 1.247, data_time: 0.311, memory: 11111, loss: 1.3198\n",
            "2021-11-02 18:45:15,955 - mmcls - INFO - Epoch [147][94/94]\tlr: 5.206e-05, eta: 5:02:04, time: 1.249, data_time: 0.315, memory: 11111, loss: 1.3358\n",
            "2021-11-02 18:47:13,279 - mmcls - INFO - Epoch [148][94/94]\tlr: 5.154e-05, eta: 5:00:05, time: 1.248, data_time: 0.315, memory: 11111, loss: 1.3532\n",
            "2021-11-02 18:49:10,676 - mmcls - INFO - Epoch [149][94/94]\tlr: 5.102e-05, eta: 4:58:05, time: 1.249, data_time: 0.320, memory: 11111, loss: 1.3244\n",
            "2021-11-02 18:51:08,512 - mmcls - INFO - Epoch [150][94/94]\tlr: 5.051e-05, eta: 4:56:06, time: 1.254, data_time: 0.324, memory: 11111, loss: 1.3072\n",
            "2021-11-02 18:51:08,514 - mmcls - INFO - Saving checkpoint at 150 epochs\n"
          ]
        },
        {
          "output_type": "stream",
          "name": "stdout",
          "text": [
            "[>>>>>>>>>>>>>>>>>>>>>>>>>>>] 2088/2088, 92.1 task/s, elapsed: 23s, ETA:     0s"
          ]
        },
        {
          "output_type": "stream",
          "name": "stderr",
          "text": [
            "2021-11-02 18:51:31,723 - mmcls - INFO - Epoch(val) [150][22]\taccuracy_top-1: 99.2337, accuracy_top-5: 100.0000\n",
            "2021-11-02 18:53:29,064 - mmcls - INFO - Epoch [151][94/94]\tlr: 4.999e-05, eta: 4:54:07, time: 1.248, data_time: 0.318, memory: 11111, loss: 1.3506\n",
            "2021-11-02 18:55:26,427 - mmcls - INFO - Epoch [152][94/94]\tlr: 4.947e-05, eta: 4:52:07, time: 1.248, data_time: 0.314, memory: 11111, loss: 1.3652\n",
            "2021-11-02 18:57:23,597 - mmcls - INFO - Epoch [153][94/94]\tlr: 4.895e-05, eta: 4:50:07, time: 1.246, data_time: 0.312, memory: 11111, loss: 1.3330\n",
            "2021-11-02 18:59:20,911 - mmcls - INFO - Epoch [154][94/94]\tlr: 4.843e-05, eta: 4:48:08, time: 1.248, data_time: 0.317, memory: 11111, loss: 1.3342\n",
            "2021-11-02 19:01:18,504 - mmcls - INFO - Epoch [155][94/94]\tlr: 4.791e-05, eta: 4:46:09, time: 1.251, data_time: 0.322, memory: 11111, loss: 1.3323\n",
            "2021-11-02 19:03:15,619 - mmcls - INFO - Epoch [156][94/94]\tlr: 4.740e-05, eta: 4:44:09, time: 1.246, data_time: 0.315, memory: 11111, loss: 1.3512\n",
            "2021-11-02 19:05:12,919 - mmcls - INFO - Epoch [157][94/94]\tlr: 4.688e-05, eta: 4:42:10, time: 1.248, data_time: 0.322, memory: 11111, loss: 1.3485\n",
            "2021-11-02 19:07:09,938 - mmcls - INFO - Epoch [158][94/94]\tlr: 4.636e-05, eta: 4:40:10, time: 1.245, data_time: 0.317, memory: 11111, loss: 1.3331\n",
            "2021-11-02 19:09:06,907 - mmcls - INFO - Epoch [159][94/94]\tlr: 4.585e-05, eta: 4:38:10, time: 1.244, data_time: 0.313, memory: 11111, loss: 1.3378\n",
            "2021-11-02 19:11:04,581 - mmcls - INFO - Epoch [160][94/94]\tlr: 4.533e-05, eta: 4:36:11, time: 1.252, data_time: 0.318, memory: 11111, loss: 1.3497\n",
            "2021-11-02 19:11:04,582 - mmcls - INFO - Saving checkpoint at 160 epochs\n"
          ]
        },
        {
          "output_type": "stream",
          "name": "stdout",
          "text": [
            "[>>>>>>>>>>>>>>>>>>>>>>>>>>>] 2088/2088, 91.5 task/s, elapsed: 23s, ETA:     0s"
          ]
        },
        {
          "output_type": "stream",
          "name": "stderr",
          "text": [
            "2021-11-02 19:11:27,932 - mmcls - INFO - Epoch(val) [160][22]\taccuracy_top-1: 99.3295, accuracy_top-5: 100.0000\n",
            "2021-11-02 19:13:25,081 - mmcls - INFO - Epoch [161][94/94]\tlr: 4.482e-05, eta: 4:34:12, time: 1.246, data_time: 0.310, memory: 11111, loss: 1.3222\n",
            "2021-11-02 19:15:22,013 - mmcls - INFO - Epoch [162][94/94]\tlr: 4.430e-05, eta: 4:32:12, time: 1.244, data_time: 0.309, memory: 11111, loss: 1.3432\n",
            "2021-11-02 19:17:19,680 - mmcls - INFO - Epoch [163][94/94]\tlr: 4.379e-05, eta: 4:30:14, time: 1.252, data_time: 0.321, memory: 11111, loss: 1.3207\n",
            "2021-11-02 19:19:17,378 - mmcls - INFO - Epoch [164][94/94]\tlr: 4.327e-05, eta: 4:28:15, time: 1.252, data_time: 0.322, memory: 11111, loss: 1.3583\n",
            "2021-11-02 19:21:14,997 - mmcls - INFO - Epoch [165][94/94]\tlr: 4.276e-05, eta: 4:26:16, time: 1.251, data_time: 0.327, memory: 11111, loss: 1.3456\n",
            "2021-11-02 19:23:12,049 - mmcls - INFO - Epoch [166][94/94]\tlr: 4.225e-05, eta: 4:24:16, time: 1.245, data_time: 0.313, memory: 11111, loss: 1.3210\n",
            "2021-11-02 19:25:09,230 - mmcls - INFO - Epoch [167][94/94]\tlr: 4.174e-05, eta: 4:22:17, time: 1.247, data_time: 0.317, memory: 11111, loss: 1.3351\n",
            "2021-11-02 19:27:06,115 - mmcls - INFO - Epoch [168][94/94]\tlr: 4.123e-05, eta: 4:20:18, time: 1.243, data_time: 0.313, memory: 11111, loss: 1.3439\n",
            "2021-11-02 19:29:02,985 - mmcls - INFO - Epoch [169][94/94]\tlr: 4.072e-05, eta: 4:18:18, time: 1.243, data_time: 0.314, memory: 11111, loss: 1.3569\n",
            "2021-11-02 19:30:59,723 - mmcls - INFO - Epoch [170][94/94]\tlr: 4.021e-05, eta: 4:16:19, time: 1.242, data_time: 0.312, memory: 11111, loss: 1.3044\n",
            "2021-11-02 19:30:59,724 - mmcls - INFO - Saving checkpoint at 170 epochs\n"
          ]
        },
        {
          "output_type": "stream",
          "name": "stdout",
          "text": [
            "[>>>>>>>>>>>>>>>>>>>>>>>>>>>] 2088/2088, 92.2 task/s, elapsed: 23s, ETA:     0s"
          ]
        },
        {
          "output_type": "stream",
          "name": "stderr",
          "text": [
            "2021-11-02 19:31:22,906 - mmcls - INFO - Epoch(val) [170][22]\taccuracy_top-1: 99.3774, accuracy_top-5: 100.0000\n",
            "2021-11-02 19:33:19,783 - mmcls - INFO - Epoch [171][94/94]\tlr: 3.971e-05, eta: 4:14:19, time: 1.243, data_time: 0.311, memory: 11111, loss: 1.3311\n",
            "2021-11-02 19:35:17,188 - mmcls - INFO - Epoch [172][94/94]\tlr: 3.920e-05, eta: 4:12:20, time: 1.249, data_time: 0.317, memory: 11111, loss: 1.3145\n",
            "2021-11-02 19:37:14,267 - mmcls - INFO - Epoch [173][94/94]\tlr: 3.870e-05, eta: 4:10:21, time: 1.245, data_time: 0.314, memory: 11111, loss: 1.3368\n",
            "2021-11-02 19:39:11,457 - mmcls - INFO - Epoch [174][94/94]\tlr: 3.820e-05, eta: 4:08:22, time: 1.247, data_time: 0.314, memory: 11111, loss: 1.3295\n",
            "2021-11-02 19:41:08,619 - mmcls - INFO - Epoch [175][94/94]\tlr: 3.769e-05, eta: 4:06:23, time: 1.246, data_time: 0.313, memory: 11111, loss: 1.3387\n",
            "2021-11-02 19:43:06,152 - mmcls - INFO - Epoch [176][94/94]\tlr: 3.719e-05, eta: 4:04:24, time: 1.250, data_time: 0.320, memory: 11111, loss: 1.3324\n",
            "2021-11-02 19:45:03,246 - mmcls - INFO - Epoch [177][94/94]\tlr: 3.670e-05, eta: 4:02:25, time: 1.246, data_time: 0.317, memory: 11111, loss: 1.3471\n",
            "2021-11-02 19:47:00,030 - mmcls - INFO - Epoch [178][94/94]\tlr: 3.620e-05, eta: 4:00:26, time: 1.242, data_time: 0.312, memory: 11111, loss: 1.3466\n",
            "2021-11-02 19:48:57,393 - mmcls - INFO - Epoch [179][94/94]\tlr: 3.570e-05, eta: 3:58:27, time: 1.248, data_time: 0.318, memory: 11111, loss: 1.3503\n",
            "2021-11-02 19:50:54,540 - mmcls - INFO - Epoch [180][94/94]\tlr: 3.521e-05, eta: 3:56:28, time: 1.246, data_time: 0.317, memory: 11111, loss: 1.3244\n",
            "2021-11-02 19:50:54,542 - mmcls - INFO - Saving checkpoint at 180 epochs\n"
          ]
        },
        {
          "output_type": "stream",
          "name": "stdout",
          "text": [
            "[>>>>>>>>>>>>>>>>>>>>>>>>>>>] 2088/2088, 91.5 task/s, elapsed: 23s, ETA:     0s"
          ]
        },
        {
          "output_type": "stream",
          "name": "stderr",
          "text": [
            "2021-11-02 19:51:17,885 - mmcls - INFO - Epoch(val) [180][22]\taccuracy_top-1: 99.4732, accuracy_top-5: 100.0000\n",
            "2021-11-02 19:53:14,865 - mmcls - INFO - Epoch [181][94/94]\tlr: 3.472e-05, eta: 3:54:29, time: 1.244, data_time: 0.320, memory: 11111, loss: 1.3379\n",
            "2021-11-02 19:55:11,983 - mmcls - INFO - Epoch [182][94/94]\tlr: 3.423e-05, eta: 3:52:30, time: 1.246, data_time: 0.320, memory: 11111, loss: 1.3411\n",
            "2021-11-02 19:57:09,324 - mmcls - INFO - Epoch [183][94/94]\tlr: 3.374e-05, eta: 3:50:31, time: 1.248, data_time: 0.323, memory: 11111, loss: 1.3099\n",
            "2021-11-02 19:59:06,922 - mmcls - INFO - Epoch [184][94/94]\tlr: 3.325e-05, eta: 3:48:33, time: 1.251, data_time: 0.319, memory: 11111, loss: 1.3255\n",
            "2021-11-02 20:01:04,253 - mmcls - INFO - Epoch [185][94/94]\tlr: 3.277e-05, eta: 3:46:34, time: 1.248, data_time: 0.315, memory: 11111, loss: 1.3130\n",
            "2021-11-02 20:03:01,345 - mmcls - INFO - Epoch [186][94/94]\tlr: 3.228e-05, eta: 3:44:35, time: 1.246, data_time: 0.315, memory: 11111, loss: 1.2869\n",
            "2021-11-02 20:04:58,372 - mmcls - INFO - Epoch [187][94/94]\tlr: 3.180e-05, eta: 3:42:36, time: 1.245, data_time: 0.316, memory: 11111, loss: 1.3273\n",
            "2021-11-02 20:06:55,676 - mmcls - INFO - Epoch [188][94/94]\tlr: 3.132e-05, eta: 3:40:37, time: 1.248, data_time: 0.314, memory: 11111, loss: 1.3224\n",
            "2021-11-02 20:08:52,823 - mmcls - INFO - Epoch [189][94/94]\tlr: 3.085e-05, eta: 3:38:38, time: 1.246, data_time: 0.318, memory: 11111, loss: 1.3132\n",
            "2021-11-02 20:10:50,354 - mmcls - INFO - Epoch [190][94/94]\tlr: 3.037e-05, eta: 3:36:40, time: 1.250, data_time: 0.319, memory: 11111, loss: 1.3321\n",
            "2021-11-02 20:10:50,355 - mmcls - INFO - Saving checkpoint at 190 epochs\n"
          ]
        },
        {
          "output_type": "stream",
          "name": "stdout",
          "text": [
            "[>>>>>>>>>>>>>>>>>>>>>>>>>>>] 2088/2088, 91.7 task/s, elapsed: 23s, ETA:     0s"
          ]
        },
        {
          "output_type": "stream",
          "name": "stderr",
          "text": [
            "2021-11-02 20:11:13,640 - mmcls - INFO - Epoch(val) [190][22]\taccuracy_top-1: 99.4732, accuracy_top-5: 100.0000\n",
            "2021-11-02 20:13:10,422 - mmcls - INFO - Epoch [191][94/94]\tlr: 2.990e-05, eta: 3:34:41, time: 1.242, data_time: 0.310, memory: 11111, loss: 1.3211\n",
            "2021-11-02 20:15:07,659 - mmcls - INFO - Epoch [192][94/94]\tlr: 2.943e-05, eta: 3:32:42, time: 1.247, data_time: 0.312, memory: 11111, loss: 1.3244\n",
            "2021-11-02 20:17:04,876 - mmcls - INFO - Epoch [193][94/94]\tlr: 2.896e-05, eta: 3:30:43, time: 1.247, data_time: 0.320, memory: 11111, loss: 1.3026\n",
            "2021-11-02 20:19:01,802 - mmcls - INFO - Epoch [194][94/94]\tlr: 2.850e-05, eta: 3:28:45, time: 1.244, data_time: 0.315, memory: 11111, loss: 1.3282\n",
            "2021-11-02 20:20:59,494 - mmcls - INFO - Epoch [195][94/94]\tlr: 2.803e-05, eta: 3:26:46, time: 1.252, data_time: 0.322, memory: 11111, loss: 1.2930\n",
            "2021-11-02 20:22:56,837 - mmcls - INFO - Epoch [196][94/94]\tlr: 2.757e-05, eta: 3:24:48, time: 1.248, data_time: 0.316, memory: 11111, loss: 1.2788\n",
            "2021-11-02 20:24:54,415 - mmcls - INFO - Epoch [197][94/94]\tlr: 2.711e-05, eta: 3:22:49, time: 1.251, data_time: 0.324, memory: 11111, loss: 1.3080\n",
            "2021-11-02 20:26:50,935 - mmcls - INFO - Epoch [198][94/94]\tlr: 2.666e-05, eta: 3:20:50, time: 1.240, data_time: 0.308, memory: 11111, loss: 1.3304\n",
            "2021-11-02 20:28:47,910 - mmcls - INFO - Epoch [199][94/94]\tlr: 2.621e-05, eta: 3:18:51, time: 1.244, data_time: 0.309, memory: 11111, loss: 1.2867\n",
            "2021-11-02 20:30:45,015 - mmcls - INFO - Epoch [200][94/94]\tlr: 2.575e-05, eta: 3:16:53, time: 1.246, data_time: 0.311, memory: 11111, loss: 1.3099\n",
            "2021-11-02 20:30:45,016 - mmcls - INFO - Saving checkpoint at 200 epochs\n"
          ]
        },
        {
          "output_type": "stream",
          "name": "stdout",
          "text": [
            "[>>>>>>>>>>>>>>>>>>>>>>>>>>>] 2088/2088, 91.5 task/s, elapsed: 23s, ETA:     0s"
          ]
        },
        {
          "output_type": "stream",
          "name": "stderr",
          "text": [
            "2021-11-02 20:31:08,352 - mmcls - INFO - Epoch(val) [200][22]\taccuracy_top-1: 99.4732, accuracy_top-5: 100.0000\n",
            "2021-11-02 20:33:05,938 - mmcls - INFO - Epoch [201][94/94]\tlr: 2.531e-05, eta: 3:14:54, time: 1.251, data_time: 0.317, memory: 11111, loss: 1.2827\n",
            "2021-11-02 20:35:03,309 - mmcls - INFO - Epoch [202][94/94]\tlr: 2.486e-05, eta: 3:12:56, time: 1.249, data_time: 0.316, memory: 11111, loss: 1.3123\n",
            "2021-11-02 20:37:00,167 - mmcls - INFO - Epoch [203][94/94]\tlr: 2.442e-05, eta: 3:10:57, time: 1.243, data_time: 0.310, memory: 11111, loss: 1.2755\n",
            "2021-11-02 20:38:57,983 - mmcls - INFO - Epoch [204][94/94]\tlr: 2.398e-05, eta: 3:08:59, time: 1.253, data_time: 0.322, memory: 11111, loss: 1.3392\n",
            "2021-11-02 20:40:54,920 - mmcls - INFO - Epoch [205][94/94]\tlr: 2.354e-05, eta: 3:07:00, time: 1.244, data_time: 0.311, memory: 11111, loss: 1.3463\n",
            "2021-11-02 20:42:51,697 - mmcls - INFO - Epoch [206][94/94]\tlr: 2.311e-05, eta: 3:05:01, time: 1.242, data_time: 0.309, memory: 11111, loss: 1.3289\n",
            "2021-11-02 20:44:49,104 - mmcls - INFO - Epoch [207][94/94]\tlr: 2.268e-05, eta: 3:03:03, time: 1.249, data_time: 0.318, memory: 11111, loss: 1.3174\n",
            "2021-11-02 20:46:46,136 - mmcls - INFO - Epoch [208][94/94]\tlr: 2.225e-05, eta: 3:01:04, time: 1.245, data_time: 0.316, memory: 11111, loss: 1.3160\n",
            "2021-11-02 20:48:43,133 - mmcls - INFO - Epoch [209][94/94]\tlr: 2.183e-05, eta: 2:59:06, time: 1.245, data_time: 0.313, memory: 11111, loss: 1.2864\n",
            "2021-11-02 20:50:40,375 - mmcls - INFO - Epoch [210][94/94]\tlr: 2.141e-05, eta: 2:57:07, time: 1.247, data_time: 0.318, memory: 11111, loss: 1.3034\n",
            "2021-11-02 20:50:40,376 - mmcls - INFO - Saving checkpoint at 210 epochs\n"
          ]
        },
        {
          "output_type": "stream",
          "name": "stdout",
          "text": [
            "[>>>>>>>>>>>>>>>>>>>>>>>>>>>] 2088/2088, 92.3 task/s, elapsed: 23s, ETA:     0s"
          ]
        },
        {
          "output_type": "stream",
          "name": "stderr",
          "text": [
            "2021-11-02 20:51:03,534 - mmcls - INFO - Epoch(val) [210][22]\taccuracy_top-1: 99.5211, accuracy_top-5: 100.0000\n",
            "2021-11-02 20:53:00,769 - mmcls - INFO - Epoch [211][94/94]\tlr: 2.099e-05, eta: 2:55:09, time: 1.247, data_time: 0.318, memory: 11111, loss: 1.3112\n",
            "2021-11-02 20:54:57,729 - mmcls - INFO - Epoch [212][94/94]\tlr: 2.058e-05, eta: 2:53:10, time: 1.244, data_time: 0.310, memory: 11111, loss: 1.2691\n",
            "2021-11-02 20:56:54,870 - mmcls - INFO - Epoch [213][94/94]\tlr: 2.017e-05, eta: 2:51:12, time: 1.246, data_time: 0.315, memory: 11111, loss: 1.3090\n",
            "2021-11-02 20:58:51,848 - mmcls - INFO - Epoch [214][94/94]\tlr: 1.976e-05, eta: 2:49:13, time: 1.244, data_time: 0.315, memory: 11111, loss: 1.2873\n",
            "2021-11-02 21:00:49,325 - mmcls - INFO - Epoch [215][94/94]\tlr: 1.935e-05, eta: 2:47:15, time: 1.250, data_time: 0.316, memory: 11111, loss: 1.3289\n",
            "2021-11-02 21:02:46,340 - mmcls - INFO - Epoch [216][94/94]\tlr: 1.895e-05, eta: 2:45:17, time: 1.245, data_time: 0.316, memory: 11111, loss: 1.3189\n",
            "2021-11-02 21:04:43,222 - mmcls - INFO - Epoch [217][94/94]\tlr: 1.855e-05, eta: 2:43:18, time: 1.243, data_time: 0.312, memory: 11111, loss: 1.2810\n",
            "2021-11-02 21:06:40,611 - mmcls - INFO - Epoch [218][94/94]\tlr: 1.816e-05, eta: 2:41:20, time: 1.249, data_time: 0.316, memory: 11111, loss: 1.3140\n",
            "2021-11-02 21:08:37,568 - mmcls - INFO - Epoch [219][94/94]\tlr: 1.777e-05, eta: 2:39:21, time: 1.244, data_time: 0.309, memory: 11111, loss: 1.3103\n",
            "2021-11-02 21:10:34,755 - mmcls - INFO - Epoch [220][94/94]\tlr: 1.738e-05, eta: 2:37:23, time: 1.247, data_time: 0.315, memory: 11111, loss: 1.3088\n",
            "2021-11-02 21:10:34,757 - mmcls - INFO - Saving checkpoint at 220 epochs\n"
          ]
        },
        {
          "output_type": "stream",
          "name": "stdout",
          "text": [
            "[>>>>>>>>>>>>>>>>>>>>>>>>>>>] 2088/2088, 91.9 task/s, elapsed: 23s, ETA:     0s"
          ]
        },
        {
          "output_type": "stream",
          "name": "stderr",
          "text": [
            "2021-11-02 21:10:58,014 - mmcls - INFO - Epoch(val) [220][22]\taccuracy_top-1: 99.6169, accuracy_top-5: 100.0000\n",
            "2021-11-02 21:12:55,175 - mmcls - INFO - Epoch [221][94/94]\tlr: 1.700e-05, eta: 2:35:25, time: 1.246, data_time: 0.318, memory: 11111, loss: 1.3196\n",
            "2021-11-02 21:14:52,406 - mmcls - INFO - Epoch [222][94/94]\tlr: 1.662e-05, eta: 2:33:26, time: 1.247, data_time: 0.310, memory: 11111, loss: 1.3020\n",
            "2021-11-02 21:16:50,144 - mmcls - INFO - Epoch [223][94/94]\tlr: 1.624e-05, eta: 2:31:28, time: 1.252, data_time: 0.322, memory: 11111, loss: 1.2952\n",
            "2021-11-02 21:18:47,005 - mmcls - INFO - Epoch [224][94/94]\tlr: 1.587e-05, eta: 2:29:30, time: 1.243, data_time: 0.312, memory: 11111, loss: 1.2979\n",
            "2021-11-02 21:20:44,391 - mmcls - INFO - Epoch [225][94/94]\tlr: 1.550e-05, eta: 2:27:31, time: 1.249, data_time: 0.313, memory: 11111, loss: 1.3145\n",
            "2021-11-02 21:22:41,735 - mmcls - INFO - Epoch [226][94/94]\tlr: 1.514e-05, eta: 2:25:33, time: 1.248, data_time: 0.321, memory: 11111, loss: 1.3084\n",
            "2021-11-02 21:24:38,546 - mmcls - INFO - Epoch [227][94/94]\tlr: 1.478e-05, eta: 2:23:35, time: 1.243, data_time: 0.318, memory: 11111, loss: 1.3414\n",
            "2021-11-02 21:26:35,849 - mmcls - INFO - Epoch [228][94/94]\tlr: 1.442e-05, eta: 2:21:37, time: 1.248, data_time: 0.323, memory: 11111, loss: 1.2830\n",
            "2021-11-02 21:28:32,770 - mmcls - INFO - Epoch [229][94/94]\tlr: 1.407e-05, eta: 2:19:38, time: 1.244, data_time: 0.317, memory: 11111, loss: 1.3307\n",
            "2021-11-02 21:30:29,966 - mmcls - INFO - Epoch [230][94/94]\tlr: 1.372e-05, eta: 2:17:40, time: 1.247, data_time: 0.315, memory: 11111, loss: 1.3001\n",
            "2021-11-02 21:30:29,968 - mmcls - INFO - Saving checkpoint at 230 epochs\n"
          ]
        },
        {
          "output_type": "stream",
          "name": "stdout",
          "text": [
            "[>>>>>>>>>>>>>>>>>>>>>>>>>>>] 2088/2088, 91.8 task/s, elapsed: 23s, ETA:     0s"
          ]
        },
        {
          "output_type": "stream",
          "name": "stderr",
          "text": [
            "2021-11-02 21:30:53,241 - mmcls - INFO - Epoch(val) [230][22]\taccuracy_top-1: 99.6648, accuracy_top-5: 100.0000\n",
            "2021-11-02 21:32:50,157 - mmcls - INFO - Epoch [231][94/94]\tlr: 1.337e-05, eta: 2:15:42, time: 1.244, data_time: 0.315, memory: 11111, loss: 1.3174\n",
            "2021-11-02 21:34:47,203 - mmcls - INFO - Epoch [232][94/94]\tlr: 1.303e-05, eta: 2:13:43, time: 1.245, data_time: 0.317, memory: 11111, loss: 1.3134\n",
            "2021-11-02 21:36:44,576 - mmcls - INFO - Epoch [233][94/94]\tlr: 1.270e-05, eta: 2:11:45, time: 1.249, data_time: 0.321, memory: 11111, loss: 1.2795\n",
            "2021-11-02 21:38:42,104 - mmcls - INFO - Epoch [234][94/94]\tlr: 1.236e-05, eta: 2:09:47, time: 1.250, data_time: 0.321, memory: 11111, loss: 1.2941\n",
            "2021-11-02 21:40:39,244 - mmcls - INFO - Epoch [235][94/94]\tlr: 1.203e-05, eta: 2:07:49, time: 1.246, data_time: 0.317, memory: 11111, loss: 1.3159\n",
            "2021-11-02 21:42:36,776 - mmcls - INFO - Epoch [236][94/94]\tlr: 1.171e-05, eta: 2:05:51, time: 1.250, data_time: 0.322, memory: 11111, loss: 1.2938\n",
            "2021-11-02 21:44:34,366 - mmcls - INFO - Epoch [237][94/94]\tlr: 1.139e-05, eta: 2:03:53, time: 1.251, data_time: 0.321, memory: 11111, loss: 1.3144\n",
            "2021-11-02 21:46:31,648 - mmcls - INFO - Epoch [238][94/94]\tlr: 1.108e-05, eta: 2:01:54, time: 1.248, data_time: 0.322, memory: 11111, loss: 1.3083\n",
            "2021-11-02 21:48:29,237 - mmcls - INFO - Epoch [239][94/94]\tlr: 1.076e-05, eta: 1:59:56, time: 1.251, data_time: 0.323, memory: 11111, loss: 1.2867\n",
            "2021-11-02 21:50:26,229 - mmcls - INFO - Epoch [240][94/94]\tlr: 1.046e-05, eta: 1:57:58, time: 1.245, data_time: 0.314, memory: 11111, loss: 1.2873\n",
            "2021-11-02 21:50:26,231 - mmcls - INFO - Saving checkpoint at 240 epochs\n"
          ]
        },
        {
          "output_type": "stream",
          "name": "stdout",
          "text": [
            "[>>>>>>>>>>>>>>>>>>>>>>>>>>>] 2088/2088, 91.7 task/s, elapsed: 23s, ETA:     0s"
          ]
        },
        {
          "output_type": "stream",
          "name": "stderr",
          "text": [
            "2021-11-02 21:50:49,540 - mmcls - INFO - Epoch(val) [240][22]\taccuracy_top-1: 99.5211, accuracy_top-5: 100.0000\n",
            "2021-11-02 21:52:47,104 - mmcls - INFO - Epoch [241][94/94]\tlr: 1.015e-05, eta: 1:56:00, time: 1.251, data_time: 0.320, memory: 11111, loss: 1.2989\n",
            "2021-11-02 21:54:44,274 - mmcls - INFO - Epoch [242][94/94]\tlr: 9.856e-06, eta: 1:54:02, time: 1.246, data_time: 0.313, memory: 11111, loss: 1.2851\n",
            "2021-11-02 21:56:41,599 - mmcls - INFO - Epoch [243][94/94]\tlr: 9.563e-06, eta: 1:52:04, time: 1.248, data_time: 0.314, memory: 11111, loss: 1.2944\n",
            "2021-11-02 21:58:38,911 - mmcls - INFO - Epoch [244][94/94]\tlr: 9.273e-06, eta: 1:50:06, time: 1.248, data_time: 0.317, memory: 11111, loss: 1.3067\n",
            "2021-11-02 22:00:36,078 - mmcls - INFO - Epoch [245][94/94]\tlr: 8.989e-06, eta: 1:48:07, time: 1.246, data_time: 0.315, memory: 11111, loss: 1.2892\n",
            "2021-11-02 22:02:33,453 - mmcls - INFO - Epoch [246][94/94]\tlr: 8.709e-06, eta: 1:46:09, time: 1.249, data_time: 0.319, memory: 11111, loss: 1.3021\n",
            "2021-11-02 22:04:30,437 - mmcls - INFO - Epoch [247][94/94]\tlr: 8.433e-06, eta: 1:44:11, time: 1.244, data_time: 0.320, memory: 11111, loss: 1.2944\n",
            "2021-11-02 22:06:27,533 - mmcls - INFO - Epoch [248][94/94]\tlr: 8.162e-06, eta: 1:42:13, time: 1.246, data_time: 0.313, memory: 11111, loss: 1.2714\n",
            "2021-11-02 22:08:24,941 - mmcls - INFO - Epoch [249][94/94]\tlr: 7.896e-06, eta: 1:40:15, time: 1.249, data_time: 0.324, memory: 11111, loss: 1.3182\n",
            "2021-11-02 22:10:22,164 - mmcls - INFO - Epoch [250][94/94]\tlr: 7.635e-06, eta: 1:38:17, time: 1.247, data_time: 0.319, memory: 11111, loss: 1.2929\n",
            "2021-11-02 22:10:22,166 - mmcls - INFO - Saving checkpoint at 250 epochs\n"
          ]
        },
        {
          "output_type": "stream",
          "name": "stdout",
          "text": [
            "[>>>>>>>>>>>>>>>>>>>>>>>>>>>] 2088/2088, 92.1 task/s, elapsed: 23s, ETA:     0s"
          ]
        },
        {
          "output_type": "stream",
          "name": "stderr",
          "text": [
            "2021-11-02 22:10:45,372 - mmcls - INFO - Epoch(val) [250][22]\taccuracy_top-1: 99.6169, accuracy_top-5: 100.0000\n",
            "2021-11-02 22:12:42,423 - mmcls - INFO - Epoch [251][94/94]\tlr: 7.378e-06, eta: 1:36:19, time: 1.245, data_time: 0.315, memory: 11111, loss: 1.3067\n",
            "2021-11-02 22:14:40,069 - mmcls - INFO - Epoch [252][94/94]\tlr: 7.125e-06, eta: 1:34:21, time: 1.251, data_time: 0.320, memory: 11111, loss: 1.3195\n",
            "2021-11-02 22:16:37,419 - mmcls - INFO - Epoch [253][94/94]\tlr: 6.878e-06, eta: 1:32:23, time: 1.248, data_time: 0.318, memory: 11111, loss: 1.2751\n",
            "2021-11-02 22:18:34,723 - mmcls - INFO - Epoch [254][94/94]\tlr: 6.635e-06, eta: 1:30:25, time: 1.248, data_time: 0.319, memory: 11111, loss: 1.3014\n",
            "2021-11-02 22:20:32,218 - mmcls - INFO - Epoch [255][94/94]\tlr: 6.398e-06, eta: 1:28:27, time: 1.250, data_time: 0.324, memory: 11111, loss: 1.2896\n",
            "2021-11-02 22:22:29,563 - mmcls - INFO - Epoch [256][94/94]\tlr: 6.165e-06, eta: 1:26:29, time: 1.248, data_time: 0.323, memory: 11111, loss: 1.2708\n",
            "2021-11-02 22:24:26,909 - mmcls - INFO - Epoch [257][94/94]\tlr: 5.937e-06, eta: 1:24:31, time: 1.248, data_time: 0.316, memory: 11111, loss: 1.3141\n",
            "2021-11-02 22:26:24,004 - mmcls - INFO - Epoch [258][94/94]\tlr: 5.713e-06, eta: 1:22:32, time: 1.246, data_time: 0.321, memory: 11111, loss: 1.3135\n",
            "2021-11-02 22:28:21,399 - mmcls - INFO - Epoch [259][94/94]\tlr: 5.495e-06, eta: 1:20:34, time: 1.249, data_time: 0.323, memory: 11111, loss: 1.2839\n",
            "2021-11-02 22:30:18,161 - mmcls - INFO - Epoch [260][94/94]\tlr: 5.282e-06, eta: 1:18:36, time: 1.242, data_time: 0.316, memory: 11111, loss: 1.3036\n",
            "2021-11-02 22:30:18,163 - mmcls - INFO - Saving checkpoint at 260 epochs\n"
          ]
        },
        {
          "output_type": "stream",
          "name": "stdout",
          "text": [
            "[>>>>>>>>>>>>>>>>>>>>>>>>>>>] 2088/2088, 92.6 task/s, elapsed: 23s, ETA:     0s"
          ]
        },
        {
          "output_type": "stream",
          "name": "stderr",
          "text": [
            "2021-11-02 22:30:41,251 - mmcls - INFO - Epoch(val) [260][22]\taccuracy_top-1: 99.7126, accuracy_top-5: 100.0000\n",
            "2021-11-02 22:32:38,402 - mmcls - INFO - Epoch [261][94/94]\tlr: 5.073e-06, eta: 1:16:38, time: 1.246, data_time: 0.314, memory: 11111, loss: 1.2935\n",
            "2021-11-02 22:34:35,361 - mmcls - INFO - Epoch [262][94/94]\tlr: 4.870e-06, eta: 1:14:40, time: 1.244, data_time: 0.312, memory: 11111, loss: 1.2836\n",
            "2021-11-02 22:36:32,749 - mmcls - INFO - Epoch [263][94/94]\tlr: 4.671e-06, eta: 1:12:42, time: 1.249, data_time: 0.323, memory: 11111, loss: 1.2972\n",
            "2021-11-02 22:38:29,802 - mmcls - INFO - Epoch [264][94/94]\tlr: 4.478e-06, eta: 1:10:44, time: 1.245, data_time: 0.315, memory: 11111, loss: 1.2830\n",
            "2021-11-02 22:40:26,642 - mmcls - INFO - Epoch [265][94/94]\tlr: 4.290e-06, eta: 1:08:46, time: 1.243, data_time: 0.311, memory: 11111, loss: 1.2792\n",
            "2021-11-02 22:42:23,556 - mmcls - INFO - Epoch [266][94/94]\tlr: 4.106e-06, eta: 1:06:48, time: 1.244, data_time: 0.316, memory: 11111, loss: 1.2956\n",
            "2021-11-02 22:44:20,464 - mmcls - INFO - Epoch [267][94/94]\tlr: 3.928e-06, eta: 1:04:50, time: 1.244, data_time: 0.316, memory: 11111, loss: 1.2954\n",
            "2021-11-02 22:46:17,668 - mmcls - INFO - Epoch [268][94/94]\tlr: 3.755e-06, eta: 1:02:52, time: 1.247, data_time: 0.318, memory: 11111, loss: 1.2971\n",
            "2021-11-02 22:48:15,042 - mmcls - INFO - Epoch [269][94/94]\tlr: 3.587e-06, eta: 1:00:54, time: 1.249, data_time: 0.321, memory: 11111, loss: 1.2658\n",
            "2021-11-02 22:50:11,967 - mmcls - INFO - Epoch [270][94/94]\tlr: 3.424e-06, eta: 0:58:56, time: 1.244, data_time: 0.316, memory: 11111, loss: 1.2984\n",
            "2021-11-02 22:50:11,969 - mmcls - INFO - Saving checkpoint at 270 epochs\n"
          ]
        },
        {
          "output_type": "stream",
          "name": "stdout",
          "text": [
            "[>>>>>>>>>>>>>>>>>>>>>>>>>>>] 2088/2088, 91.8 task/s, elapsed: 23s, ETA:     0s"
          ]
        },
        {
          "output_type": "stream",
          "name": "stderr",
          "text": [
            "2021-11-02 22:50:35,260 - mmcls - INFO - Epoch(val) [270][22]\taccuracy_top-1: 99.5211, accuracy_top-5: 100.0000\n",
            "2021-11-02 22:52:32,479 - mmcls - INFO - Epoch [271][94/94]\tlr: 3.267e-06, eta: 0:56:58, time: 1.247, data_time: 0.317, memory: 11111, loss: 1.2879\n",
            "2021-11-02 22:54:29,581 - mmcls - INFO - Epoch [272][94/94]\tlr: 3.114e-06, eta: 0:55:00, time: 1.246, data_time: 0.316, memory: 11111, loss: 1.2873\n",
            "2021-11-02 22:56:27,141 - mmcls - INFO - Epoch [273][94/94]\tlr: 2.967e-06, eta: 0:53:02, time: 1.251, data_time: 0.318, memory: 11111, loss: 1.2760\n",
            "2021-11-02 22:58:37,588 - mmcls - INFO - Epoch [274][94/94]\tlr: 2.825e-06, eta: 0:51:06, time: 1.388, data_time: 0.456, memory: 11111, loss: 1.3093\n",
            "2021-11-02 23:00:44,497 - mmcls - INFO - Epoch [275][94/94]\tlr: 2.688e-06, eta: 0:49:09, time: 1.350, data_time: 0.417, memory: 11111, loss: 1.3225\n",
            "2021-11-02 23:02:44,995 - mmcls - INFO - Epoch [276][94/94]\tlr: 2.557e-06, eta: 0:47:11, time: 1.282, data_time: 0.346, memory: 11111, loss: 1.2946\n",
            "2021-11-02 23:04:45,908 - mmcls - INFO - Epoch [277][94/94]\tlr: 2.430e-06, eta: 0:45:13, time: 1.286, data_time: 0.354, memory: 11111, loss: 1.2754\n",
            "2021-11-02 23:06:47,098 - mmcls - INFO - Epoch [278][94/94]\tlr: 2.309e-06, eta: 0:43:15, time: 1.289, data_time: 0.356, memory: 11111, loss: 1.3120\n",
            "2021-11-02 23:08:48,800 - mmcls - INFO - Epoch [279][94/94]\tlr: 2.193e-06, eta: 0:41:18, time: 1.295, data_time: 0.360, memory: 11111, loss: 1.3011\n",
            "2021-11-02 23:10:51,474 - mmcls - INFO - Epoch [280][94/94]\tlr: 2.083e-06, eta: 0:39:20, time: 1.305, data_time: 0.370, memory: 11111, loss: 1.2926\n",
            "2021-11-02 23:10:51,476 - mmcls - INFO - Saving checkpoint at 280 epochs\n"
          ]
        },
        {
          "output_type": "stream",
          "name": "stdout",
          "text": [
            "[>>>>>>>>>>>>>>>>>>>>>>>>>>>] 2088/2088, 92.8 task/s, elapsed: 22s, ETA:     0s"
          ]
        },
        {
          "output_type": "stream",
          "name": "stderr",
          "text": [
            "2021-11-02 23:11:14,525 - mmcls - INFO - Epoch(val) [280][22]\taccuracy_top-1: 99.6169, accuracy_top-5: 100.0000\n",
            "2021-11-02 23:13:11,148 - mmcls - INFO - Epoch [281][94/94]\tlr: 1.978e-06, eta: 0:37:22, time: 1.241, data_time: 0.308, memory: 11111, loss: 1.2802\n",
            "2021-11-02 23:15:07,417 - mmcls - INFO - Epoch [282][94/94]\tlr: 1.878e-06, eta: 0:35:24, time: 1.237, data_time: 0.301, memory: 11111, loss: 1.2980\n",
            "2021-11-02 23:17:03,981 - mmcls - INFO - Epoch [283][94/94]\tlr: 1.783e-06, eta: 0:33:26, time: 1.240, data_time: 0.308, memory: 11111, loss: 1.2906\n",
            "2021-11-02 23:19:00,447 - mmcls - INFO - Epoch [284][94/94]\tlr: 1.694e-06, eta: 0:31:28, time: 1.239, data_time: 0.311, memory: 11111, loss: 1.2768\n",
            "2021-11-02 23:20:57,015 - mmcls - INFO - Epoch [285][94/94]\tlr: 1.610e-06, eta: 0:29:29, time: 1.240, data_time: 0.308, memory: 11111, loss: 1.3122\n",
            "2021-11-02 23:22:53,438 - mmcls - INFO - Epoch [286][94/94]\tlr: 1.532e-06, eta: 0:27:31, time: 1.238, data_time: 0.308, memory: 11111, loss: 1.2782\n",
            "2021-11-02 23:24:49,542 - mmcls - INFO - Epoch [287][94/94]\tlr: 1.459e-06, eta: 0:25:33, time: 1.235, data_time: 0.305, memory: 11111, loss: 1.2697\n",
            "2021-11-02 23:26:45,688 - mmcls - INFO - Epoch [288][94/94]\tlr: 1.391e-06, eta: 0:23:35, time: 1.236, data_time: 0.306, memory: 11111, loss: 1.2899\n",
            "2021-11-02 23:28:42,251 - mmcls - INFO - Epoch [289][94/94]\tlr: 1.329e-06, eta: 0:21:37, time: 1.240, data_time: 0.310, memory: 11111, loss: 1.2540\n",
            "2021-11-02 23:30:38,339 - mmcls - INFO - Epoch [290][94/94]\tlr: 1.272e-06, eta: 0:19:39, time: 1.235, data_time: 0.305, memory: 11111, loss: 1.2850\n",
            "2021-11-02 23:30:38,341 - mmcls - INFO - Saving checkpoint at 290 epochs\n"
          ]
        },
        {
          "output_type": "stream",
          "name": "stdout",
          "text": [
            "[>>>>>>>>>>>>>>>>>>>>>>>>>>>] 2088/2088, 92.6 task/s, elapsed: 23s, ETA:     0s"
          ]
        },
        {
          "output_type": "stream",
          "name": "stderr",
          "text": [
            "2021-11-02 23:31:01,435 - mmcls - INFO - Epoch(val) [290][22]\taccuracy_top-1: 99.5211, accuracy_top-5: 100.0000\n",
            "2021-11-02 23:32:58,261 - mmcls - INFO - Epoch [291][94/94]\tlr: 1.220e-06, eta: 0:17:41, time: 1.243, data_time: 0.310, memory: 11111, loss: 1.3116\n",
            "2021-11-02 23:34:54,868 - mmcls - INFO - Epoch [292][94/94]\tlr: 1.174e-06, eta: 0:15:43, time: 1.240, data_time: 0.304, memory: 11111, loss: 1.2608\n",
            "2021-11-02 23:36:51,478 - mmcls - INFO - Epoch [293][94/94]\tlr: 1.133e-06, eta: 0:13:45, time: 1.240, data_time: 0.311, memory: 11111, loss: 1.2789\n",
            "2021-11-02 23:38:48,375 - mmcls - INFO - Epoch [294][94/94]\tlr: 1.098e-06, eta: 0:11:47, time: 1.244, data_time: 0.313, memory: 11111, loss: 1.3177\n",
            "2021-11-02 23:40:44,975 - mmcls - INFO - Epoch [295][94/94]\tlr: 1.068e-06, eta: 0:09:49, time: 1.240, data_time: 0.309, memory: 11111, loss: 1.2808\n",
            "2021-11-02 23:42:40,714 - mmcls - INFO - Epoch [296][94/94]\tlr: 1.044e-06, eta: 0:07:51, time: 1.231, data_time: 0.299, memory: 11111, loss: 1.2815\n",
            "2021-11-02 23:44:37,617 - mmcls - INFO - Epoch [297][94/94]\tlr: 1.025e-06, eta: 0:05:53, time: 1.244, data_time: 0.309, memory: 11111, loss: 1.2959\n",
            "2021-11-02 23:46:34,138 - mmcls - INFO - Epoch [298][94/94]\tlr: 1.011e-06, eta: 0:03:55, time: 1.240, data_time: 0.310, memory: 11111, loss: 1.2828\n",
            "2021-11-02 23:48:30,616 - mmcls - INFO - Epoch [299][94/94]\tlr: 1.003e-06, eta: 0:01:57, time: 1.239, data_time: 0.306, memory: 11111, loss: 1.2651\n",
            "2021-11-02 23:50:27,041 - mmcls - INFO - Epoch [300][94/94]\tlr: 1.000e-06, eta: 0:00:00, time: 1.239, data_time: 0.307, memory: 11111, loss: 1.2921\n",
            "2021-11-02 23:50:27,042 - mmcls - INFO - Saving checkpoint at 300 epochs\n"
          ]
        },
        {
          "output_type": "stream",
          "name": "stdout",
          "text": [
            "[>>>>>>>>>>>>>>>>>>>>>>>>>>>] 2088/2088, 92.1 task/s, elapsed: 23s, ETA:     0s"
          ]
        },
        {
          "output_type": "stream",
          "name": "stderr",
          "text": [
            "2021-11-02 23:50:50,245 - mmcls - INFO - Epoch(val) [300][22]\taccuracy_top-1: 99.6648, accuracy_top-5: 100.0000\n"
          ]
        }
      ]
    },
    {
      "cell_type": "markdown",
      "metadata": {
        "id": "Fk-ayBSC9x4u"
      },
      "source": [
        "#Analyze logs"
      ]
    },
    {
      "cell_type": "code",
      "metadata": {
        "id": "4PdtK7o3Lp44",
        "colab": {
          "base_uri": "https://localhost:8080/"
        },
        "outputId": "922f51ec-51dc-45c1-fff2-80d578a7dc7c"
      },
      "source": [
        "!python tools/analysis_tools/analyze_logs.py plot_curve tutorial_swin/None.log.json --keys loss_cls loss_bbox loss --legend loss_cls loss_bbox loss"
      ],
      "execution_count": null,
      "outputs": [
        {
          "output_type": "stream",
          "name": "stdout",
          "text": [
            "plot curve of tutorial_swin/None.log.json, metric is loss_cls\n",
            "Traceback (most recent call last):\n",
            "  File \"tools/analysis_tools/analyze_logs.py\", line 180, in <module>\n",
            "    main()\n",
            "  File \"tools/analysis_tools/analyze_logs.py\", line 176, in main\n",
            "    eval(args.task)(log_dicts, args)\n",
            "  File \"tools/analysis_tools/analyze_logs.py\", line 81, in plot_curve\n",
            "    xs, ys, label=legend[i * num_metrics + j], linewidth=0.5)\n",
            "  File \"/home/ali/anaconda3/envs/mmdetection/lib/python3.7/site-packages/matplotlib/pyplot.py\", line 3021, in plot\n",
            "    **({\"data\": data} if data is not None else {}), **kwargs)\n",
            "  File \"/home/ali/anaconda3/envs/mmdetection/lib/python3.7/site-packages/matplotlib/axes/_axes.py\", line 1605, in plot\n",
            "    lines = [*self._get_lines(*args, data=data, **kwargs)]\n",
            "  File \"/home/ali/anaconda3/envs/mmdetection/lib/python3.7/site-packages/matplotlib/axes/_base.py\", line 315, in __call__\n",
            "    yield from self._plot_args(this, kwargs)\n",
            "  File \"/home/ali/anaconda3/envs/mmdetection/lib/python3.7/site-packages/matplotlib/axes/_base.py\", line 501, in _plot_args\n",
            "    raise ValueError(f\"x and y must have same first dimension, but \"\n",
            "ValueError: x and y must have same first dimension, but have shapes (321,) and (319,)\n"
          ]
        }
      ]
    },
    {
      "cell_type": "markdown",
      "metadata": {
        "id": "L8ppFtGp8hHC"
      },
      "source": [
        "#Compute results"
      ]
    },
    {
      "cell_type": "code",
      "metadata": {
        "id": "oAhkyd1E8lFm",
        "colab": {
          "base_uri": "https://localhost:8080/"
        },
        "outputId": "cd0ff9f4-5eae-40a7-9f69-9039a030a8bb"
      },
      "source": [
        "!python tools/test.py \\\n",
        "        configs/swin_transformer/swin_tiny_224_b16x64_300e_TBX11K_C1_fullCFG.py \\\n",
        "        tutorial_swin_C1/epoch_300.pth \\\n",
        "        --out tutorial_swin_C1/output_results.json \\\n",
        "        --out-items class_scores \\\n",
        "        --metrics accuracy precision recall f1_score support\n",
        "        # --show-dir results/\n",
        "#configs/resnet/resnet50_b32x8_TBX11K_fullCFG.py \\\n",
        "#configs/resnet/resnet50_b32x8_TBX11K_C1_fullCFG.py\n",
        "#configs/swin_transformer/swin_tiny_224_b16x64_300e_TBX11K_C1_fullCFG.py"
      ],
      "execution_count": null,
      "outputs": [
        {
          "output_type": "stream",
          "name": "stdout",
          "text": [
            "Use load_from_local loader\n",
            "[                                                  ] 0/2088, elapsed: 0s, ETA:/home/ali/anaconda3/envs/mmdetection/lib/python3.7/site-packages/torch/nn/functional.py:1805: UserWarning: nn.functional.sigmoid is deprecated. Use torch.sigmoid instead.\n",
            "  warnings.warn(\"nn.functional.sigmoid is deprecated. Use torch.sigmoid instead.\")\n",
            "[>>>>>>>>>>>>>>>>>>>>>>>>>>>] 2088/2088, 85.1 task/s, elapsed: 25s, ETA:     0s\n",
            "accuracy_top-1 : 99.66\n",
            "\n",
            "accuracy_top-5 : 100.0\n",
            "\n",
            "support : 2088.0\n",
            "\n",
            "precision : 99.74\n",
            "\n",
            "recall : 99.5\n",
            "\n",
            "f1_score : 99.62\n",
            "\n",
            "dumping results to tutorial_swin_C1/output_results.json\n"
          ]
        }
      ]
    },
    {
      "cell_type": "markdown",
      "metadata": {
        "id": "6gtM28HDiJsg"
      },
      "source": [
        "# Evaluate results in COCO style output (for results submission to competition)"
      ]
    },
    {
      "cell_type": "code",
      "metadata": {
        "colab": {
          "base_uri": "https://localhost:8080/"
        },
        "id": "Qn19LHMFiR6G",
        "outputId": "045ff27e-be09-401b-b9b3-efa1480a0de6"
      },
      "source": [
        "!python tools/test.py \\\n",
        "        configs/swin_transformer/swin_tiny_224_b16x64_300e_TBX11K_C1_fullCFG.py \\\n",
        "        tutorial_swin_C1/epoch_300.pth \\\n",
        "        --out tutorial_swin_C1/output_results.json \\\n",
        "        --out-items class_scores\n"
      ],
      "execution_count": null,
      "outputs": [
        {
          "output_type": "stream",
          "name": "stdout",
          "text": [
            "Use load_from_local loader\n",
            "[                                                  ] 0/3302, elapsed: 0s, ETA:/home/ali/anaconda3/envs/mmdetection/lib/python3.7/site-packages/torch/nn/functional.py:1805: UserWarning: nn.functional.sigmoid is deprecated. Use torch.sigmoid instead.\n",
            "  warnings.warn(\"nn.functional.sigmoid is deprecated. Use torch.sigmoid instead.\")\n",
            "[>>>>>>>>>>>>>>>>>>>>>>>>>>>] 3302/3302, 86.0 task/s, elapsed: 38s, ETA:     0s\n",
            "dumping results to tutorial_swin_C1/output_results.json\n"
          ]
        }
      ]
    },
    {
      "cell_type": "code",
      "metadata": {
        "id": "N_aprHsFeEAo"
      },
      "source": [
        "import pickle\n",
        "with open('output_results.pkl', 'rb') as f:\n",
        "    x = pickle.load(f)"
      ],
      "execution_count": null,
      "outputs": []
    },
    {
      "cell_type": "code",
      "metadata": {
        "id": "Rj3BvcnRf6v9"
      },
      "source": [
        "x"
      ],
      "execution_count": null,
      "outputs": []
    },
    {
      "cell_type": "markdown",
      "metadata": {
        "id": "2PrRZsn68BSS"
      },
      "source": [
        "#Analyze results"
      ]
    },
    {
      "cell_type": "code",
      "metadata": {
        "id": "hQWc7GIO8DS7"
      },
      "source": [
        "!python tools/analysis_tools/analyze_results.py \\\n",
        "      configs/faster_rcnn/faster_rcnn_r50_fpn_1x_TBX11.py \\\n",
        "       tutorial_exps/results.pkl \\\n",
        "       results \\\n",
        "       --show \\\n",
        "       --show-score-thr 0.3\n",
        "#       configs/faster_rcnn/faster_rcnn_r50_fpn_1x_TBX11.py \\\n",
        "#       configs/swin/mask_rcnn_swin-t-p4-w7_fpn_1x_TBX11K.py \\\n"
      ],
      "execution_count": null,
      "outputs": []
    },
    {
      "cell_type": "markdown",
      "metadata": {
        "id": "4DjAnvwOUcmg"
      },
      "source": [
        "#Prediction (run)"
      ]
    },
    {
      "cell_type": "code",
      "metadata": {
        "id": "dscCLkeQEWH8"
      },
      "source": [
        "from mmdet.apis import inference_detector, init_detector, show_result_pyplot\n",
        "\n",
        "# Setup a checkpoint file to load\n",
        "checkpoint = 'tutorial_exps/epoch_500.pth'\n",
        "\n",
        "# initialize the detector\n",
        "model = init_detector(cfg, checkpoint, device='cuda:0')\n",
        "model.CLASSES = datasets[0].CLASSES\n"
      ],
      "execution_count": null,
      "outputs": []
    },
    {
      "cell_type": "code",
      "metadata": {
        "id": "CU_A8uxoHzax"
      },
      "source": [
        "model.cfg"
      ],
      "execution_count": null,
      "outputs": []
    },
    {
      "cell_type": "code",
      "metadata": {
        "id": "l9YfnV5S5Yyo"
      },
      "source": [
        "!ls"
      ],
      "execution_count": null,
      "outputs": []
    },
    {
      "cell_type": "code",
      "metadata": {
        "id": "IkNWZm6XEXwb"
      },
      "source": [
        "# model = build_detector(cfg.model)\n",
        "\n",
        "# Use the detector to do inference\n",
        "img = 'data/TBX11K/imgs/tb/tb0005.png'\n",
        "result = inference_detector(model, img)\n",
        "# Let's plot the result\n",
        "show_result_pyplot(model, img, result, score_thr=0.3)"
      ],
      "execution_count": null,
      "outputs": []
    },
    {
      "cell_type": "markdown",
      "metadata": {
        "id": "3vbFjKLb9rsn"
      },
      "source": [
        "#Classification"
      ]
    }
  ]
}